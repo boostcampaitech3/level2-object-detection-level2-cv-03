{
 "cells": [
  {
   "cell_type": "code",
   "execution_count": null,
   "source": [
    "!pip install ensemble_boxes"
   ],
   "outputs": [],
   "metadata": {
    "id": "m9qPQ_LK-Xyl",
    "outputId": "8fe2151c-b074-4566-ec0b-eb67c30d9dec"
   }
  },
  {
   "cell_type": "code",
   "execution_count": 1,
   "source": [
    "import pandas as pd\n",
    "from ensemble_boxes import *\n",
    "import numpy as np\n",
    "from pycocotools.coco import COCO"
   ],
   "outputs": [],
   "metadata": {
    "id": "I_EJiY_Q-Xyn"
   }
  },
  {
   "cell_type": "code",
   "execution_count": 2,
   "source": [
    "# ensemble csv files\n",
    "# submission_swin_l_multi\n",
    "submission_files = ['../../sample_submission/submission_swin_l_multi.csv',\n",
    "                    '../../sample_submission/submission_0401_ensemble.csv',] # submission lists\n",
    "submission_df = [pd.read_csv(file) for file in submission_files]"
   ],
   "outputs": [],
   "metadata": {
    "id": "ZLOCNEqv-Xyo"
   }
  },
  {
   "cell_type": "code",
   "execution_count": 3,
   "source": [
    "image_ids = submission_df[1]['image_id'].tolist()"
   ],
   "outputs": [],
   "metadata": {
    "id": "hQTyC52S-Xyo"
   }
  },
  {
   "cell_type": "code",
   "execution_count": 4,
   "source": [
    "# ensemble 할 file의 image 정보를 불러오기 위한 json\n",
    "annotation = '../../dataset/test.json'\n",
    "coco = COCO(annotation)"
   ],
   "outputs": [
    {
     "output_type": "stream",
     "name": "stdout",
     "text": [
      "loading annotations into memory...\n",
      "Done (t=0.01s)\n",
      "creating index...\n",
      "index created!\n"
     ]
    }
   ],
   "metadata": {
    "id": "UWACT5vA-Xyp",
    "outputId": "849680cd-c97b-4270-cdce-c26fdfca163c"
   }
  },
  {
   "cell_type": "code",
   "execution_count": 6,
   "source": [
    "prediction_strings = []\n",
    "file_names = []\n",
    "# ensemble 시 설정할 iou threshold 이 부분을 바꿔가며 대회 metric에 알맞게 적용해봐요!\n",
    "iou_thr = 0.55\n",
    "\n",
    "## soft_nms & wbf\n",
    "weights = [2,1]\n",
    "skip_box_thr = 0.001\n",
    "sigma = 0.1\n",
    "\n",
    "\n",
    "# 각 image id 별로 submission file에서 box좌표 추출\n",
    "for i, image_id in enumerate(image_ids):\n",
    "    prediction_string = ''\n",
    "    boxes_list = []\n",
    "    scores_list = []\n",
    "    labels_list = []\n",
    "    image_info = coco.loadImgs(i)[0]\n",
    "#     각 submission file 별로 prediction box좌표 불러오기\n",
    "    for df in submission_df:\n",
    "        try:\n",
    "            predict_string = df[df['image_id'] == image_id]['PredictionString'].tolist()[0]\n",
    "        except:\n",
    "            print(image_id)\n",
    "            print(df[df['image_id'] == image_id]['PredictionString'].tolist())\n",
    "            exit()\n",
    "        predict_list = str(predict_string).split()\n",
    "        \n",
    "        if len(predict_list)==0 or len(predict_list)==1:\n",
    "            continue\n",
    "            \n",
    "        predict_list = np.reshape(predict_list, (-1, 6))\n",
    "        box_list = []\n",
    "        \n",
    "        for box in predict_list[:, 2:6].tolist():\n",
    "            box[0] = float(box[0]) / image_info['width']\n",
    "            box[1] = float(box[1]) / image_info['height']\n",
    "            box[2] = float(box[2]) / image_info['width']\n",
    "            box[3] = float(box[3]) / image_info['height']\n",
    "            box_list.append(box)\n",
    "            \n",
    "        boxes_list.append(box_list)\n",
    "        scores_list.append(list(map(float, predict_list[:, 1].tolist())))\n",
    "        labels_list.append(list(map(int, predict_list[:, 0].tolist())))\n",
    "\n",
    "#     예측 box가 있다면 이를 ensemble 수행\n",
    "    if len(boxes_list) == 2:\n",
    "        # boxes, scores, labels = nms(boxes_list, scores_list, labels_list, iou_thr=iou_thr) # nms!\n",
    "        # boxes, scores, labels = soft_nms(boxes_list, scores_list, labels_list, iou_thr=iou_thr, sigma=sigma, thresh=skip_box_thr) # soft_nms!\n",
    "        boxes, scores, labels = weighted_boxes_fusion(boxes_list, scores_list, labels_list, weights=weights, iou_thr=iou_thr, skip_box_thr=skip_box_thr, conf_type = 'max') # , conf_type = 'max'\n",
    "        for box, score, label in zip(boxes, scores, labels):\n",
    "            prediction_string += str(int(label)) + ' ' + str(score) + ' ' + str(box[0] * image_info['width']) + ' ' + str(box[1] * image_info['height']) + ' ' + str(box[2] * image_info['width']) + ' ' + str(box[3] * image_info['height']) + ' '\n",
    "    ### weight를 1로 맞추라고 warning 뜨는경우...! (앙상블 대상 csv 중 특정 row 가 empty prediction일 때...)\n",
    "    # elif len(boxes_list)==1:\n",
    "    #     boxes_list.append([])\n",
    "    #     scores_list.append([])\n",
    "    #     labels_list.append([])\n",
    "    #     boxes, scores, labels = weighted_boxes_fusion(boxes_list, scores_list, labels_list, weights=weights, iou_thr=iou_thr, skip_box_thr=skip_box_thr)\n",
    "    #     for box, score, label in zip(boxes, scores, labels):\n",
    "    #         prediction_string += str(int(label)) + ' ' + str(score) + ' ' + str(box[0] * image_info['width']) + ' ' + str(box[1] * image_info['height']) + ' ' + str(box[2] * image_info['width']) + ' ' + str(box[3] * image_info['height']) + ' '\n",
    "        \n",
    "    \n",
    "    prediction_strings.append(prediction_string)\n",
    "    file_names.append(image_id)"
   ],
   "outputs": [],
   "metadata": {
    "id": "P9FWVf1C-Xyp"
   }
  },
  {
   "cell_type": "code",
   "execution_count": 7,
   "source": [
    "submission = pd.DataFrame()\n",
    "submission['PredictionString'] = prediction_strings\n",
    "submission['image_id'] = file_names\n",
    "submission.to_csv('ensemble_swint_hardaug_to(4_3_재욱)_wbf_thr_055_max_weighted.csv')\n",
    "\n",
    "submission.head()"
   ],
   "outputs": [
    {
     "output_type": "execute_result",
     "data": {
      "text/plain": [
       "                                    PredictionString       image_id\n",
       "0  7 0.999920129776001 603.8963623046875 512.9420...  test/0000.jpg\n",
       "1  5 0.9996607303619385 335.338134765625 243.6771...  test/0001.jpg\n",
       "2  1 0.9972907900810242 97.1069564819336 294.4400...  test/0002.jpg\n",
       "3  9 0.9998637437820435 143.36895751953125 259.61...  test/0003.jpg\n",
       "4  1 0.9992254972457886 180.70480346679688 267.72...  test/0004.jpg"
      ],
      "text/html": [
       "<div>\n",
       "<style scoped>\n",
       "    .dataframe tbody tr th:only-of-type {\n",
       "        vertical-align: middle;\n",
       "    }\n",
       "\n",
       "    .dataframe tbody tr th {\n",
       "        vertical-align: top;\n",
       "    }\n",
       "\n",
       "    .dataframe thead th {\n",
       "        text-align: right;\n",
       "    }\n",
       "</style>\n",
       "<table border=\"1\" class=\"dataframe\">\n",
       "  <thead>\n",
       "    <tr style=\"text-align: right;\">\n",
       "      <th></th>\n",
       "      <th>PredictionString</th>\n",
       "      <th>image_id</th>\n",
       "    </tr>\n",
       "  </thead>\n",
       "  <tbody>\n",
       "    <tr>\n",
       "      <th>0</th>\n",
       "      <td>7 0.999920129776001 603.8963623046875 512.9420...</td>\n",
       "      <td>test/0000.jpg</td>\n",
       "    </tr>\n",
       "    <tr>\n",
       "      <th>1</th>\n",
       "      <td>5 0.9996607303619385 335.338134765625 243.6771...</td>\n",
       "      <td>test/0001.jpg</td>\n",
       "    </tr>\n",
       "    <tr>\n",
       "      <th>2</th>\n",
       "      <td>1 0.9972907900810242 97.1069564819336 294.4400...</td>\n",
       "      <td>test/0002.jpg</td>\n",
       "    </tr>\n",
       "    <tr>\n",
       "      <th>3</th>\n",
       "      <td>9 0.9998637437820435 143.36895751953125 259.61...</td>\n",
       "      <td>test/0003.jpg</td>\n",
       "    </tr>\n",
       "    <tr>\n",
       "      <th>4</th>\n",
       "      <td>1 0.9992254972457886 180.70480346679688 267.72...</td>\n",
       "      <td>test/0004.jpg</td>\n",
       "    </tr>\n",
       "  </tbody>\n",
       "</table>\n",
       "</div>"
      ]
     },
     "metadata": {},
     "execution_count": 7
    }
   ],
   "metadata": {
    "id": "670hwiqt-Xyq",
    "outputId": "c2b4b446-d5ba-4b0c-80e8-db1609ed3419"
   }
  },
  {
   "cell_type": "code",
   "execution_count": null,
   "source": [],
   "outputs": [],
   "metadata": {}
  }
 ],
 "metadata": {
  "colab": {
   "name": "ensemble.ipynb의 사본",
   "provenance": []
  },
  "kernelspec": {
   "display_name": "Python 3 (ipykernel)",
   "language": "python",
   "name": "python3"
  },
  "language_info": {
   "codemirror_mode": {
    "name": "ipython",
    "version": 3
   },
   "file_extension": ".py",
   "mimetype": "text/x-python",
   "name": "python",
   "nbconvert_exporter": "python",
   "pygments_lexer": "ipython3",
   "version": "3.7.11"
  }
 },
 "nbformat": 4,
 "nbformat_minor": 4
}