{
 "cells": [
  {
   "cell_type": "markdown",
   "metadata": {},
   "source": [
    "# Library Import"
   ]
  },
  {
   "cell_type": "code",
   "execution_count": 1,
   "metadata": {},
   "outputs": [],
   "source": [
    "# !pip install wandb --upgrade\n",
    "# !pip install adamp"
   ]
  },
  {
   "cell_type": "code",
   "execution_count": 2,
   "metadata": {},
   "outputs": [],
   "source": [
    "from pycocotools.coco import COCO\n",
    "from pycocotools.cocoeval import COCOeval\n",
    "import numpy as np\n",
    "import cv2\n",
    "import os\n",
    "\n",
    "import albumentations as A\n",
    "from albumentations.pytorch.transforms import ToTensorV2\n",
    "\n",
    "import torch\n",
    "# faster rcnn model이 포함된 library\n",
    "import torchvision\n",
    "\n",
    "from torchvision.models.detection.faster_rcnn import FastRCNNPredictor\n",
    "\n",
    "from torch.utils.data import DataLoader, Dataset\n",
    "import pandas as pd\n",
    "from tqdm import tqdm\n",
    "\n",
    "import wandb\n",
    "\n",
    "from map_boxes import mean_average_precision_for_boxes\n",
    "\n",
    "from torch.optim.lr_scheduler import StepLR, ReduceLROnPlateau, CosineAnnealingLR\n",
    "from adamp import AdamP\n",
    "\n",
    "from CosineAnnealingWarmUpRestarts import CosineAnnealingWarmUpRestarts\n",
    "\n",
    "from sklearn.model_selection import StratifiedGroupKFold \n",
    "import json\n",
    "\n",
    "import gc\n"
   ]
  },
  {
   "cell_type": "code",
   "execution_count": 3,
   "metadata": {},
   "outputs": [
    {
     "name": "stderr",
     "output_type": "stream",
     "text": [
      "Failed to detect the name of this notebook, you can set it manually with the WANDB_NOTEBOOK_NAME environment variable to enable code saving.\n",
      "\u001b[34m\u001b[1mwandb\u001b[0m: Currently logged in as: \u001b[33mjaeook\u001b[0m (use `wandb login --relogin` to force relogin)\n"
     ]
    },
    {
     "data": {
      "text/plain": [
       "True"
      ]
     },
     "execution_count": 3,
     "metadata": {},
     "output_type": "execute_result"
    }
   ],
   "source": [
    "# 실행 후 url을 클릭하면 API key가 나오는데 복붙하시면 됩니다!!\n",
    "wandb.login()"
   ]
  },
  {
   "cell_type": "markdown",
   "metadata": {},
   "source": [
    "# Dataset 생성"
   ]
  },
  {
   "cell_type": "code",
   "execution_count": 4,
   "metadata": {},
   "outputs": [],
   "source": [
    "class CustomDataset(Dataset):\n",
    "    '''\n",
    "      data_dir: data가 존재하는 폴더 경로\n",
    "      transforms: data transform (resize, crop, Totensor, etc,,,)\n",
    "    '''\n",
    "\n",
    "    def __init__(self, annotation, data_dir, transforms=None):\n",
    "        super().__init__()\n",
    "        self.data_dir = data_dir\n",
    "        # coco annotation 불러오기 (coco API)\n",
    "        self.coco = COCO(annotation)\n",
    "        self.predictions = {\n",
    "            \"images\": self.coco.dataset[\"images\"].copy(),\n",
    "            \"categories\": self.coco.dataset[\"categories\"].copy(),\n",
    "            \"annotations\": None\n",
    "        }\n",
    "        self.transforms = transforms\n",
    "\n",
    "    def __getitem__(self, index: int):\n",
    "        \n",
    "        image_id = self.coco.getImgIds(imgIds=index)  # return image id list\n",
    "\n",
    "        image_info = self.coco.loadImgs(image_id)[0]  # return image_info\n",
    "        \n",
    "        image = cv2.imread(os.path.join(self.data_dir, image_info['file_name']))\n",
    "        image = cv2.cvtColor(image, cv2.COLOR_BGR2RGB).astype(np.float32)\n",
    "        image /= 255.0\n",
    "\n",
    "        ann_ids = self.coco.getAnnIds(imgIds=image_info['id'])  # return annotation id, imgIds가 x인 annotation id return\n",
    "        anns = self.coco.loadAnns(ann_ids)  # return annotation information list (annotation_info_list)\n",
    "\n",
    "        boxes = np.array([x['bbox'] for x in anns])\n",
    "\n",
    "        # boxex (x_min, y_min, x_max, y_max)\n",
    "        boxes[:, 2] = boxes[:, 0] + boxes[:, 2]\n",
    "        boxes[:, 3] = boxes[:, 1] + boxes[:, 3]\n",
    "        \n",
    "        # torchvision faster_rcnn은 label=0을 background로 취급\n",
    "        # class_id를 1~10으로 수정 \n",
    "        labels = np.array([x['category_id']+1 for x in anns]) \n",
    "        labels = torch.as_tensor(labels, dtype=torch.int64)\n",
    "        \n",
    "        areas = np.array([x['area'] for x in anns])\n",
    "        areas = torch.as_tensor(areas, dtype=torch.float32)\n",
    "                                \n",
    "        is_crowds = np.array([x['iscrowd'] for x in anns])\n",
    "        is_crowds = torch.as_tensor(is_crowds, dtype=torch.int64)\n",
    "\n",
    "        target = {'boxes': boxes, 'labels': labels, 'image_id': torch.tensor([index]), 'area': areas,\n",
    "                  'iscrowd': is_crowds}\n",
    "\n",
    "        # transform\n",
    "        if self.transforms:\n",
    "            sample = {\n",
    "                'image': image,\n",
    "                'bboxes': target['boxes'],\n",
    "                'labels': labels\n",
    "            }\n",
    "            sample = self.transforms(**sample)\n",
    "            image = sample['image']\n",
    "            target['boxes'] = torch.tensor(sample['bboxes'], dtype=torch.float32)\n",
    "\n",
    "        return image, target, image_id\n",
    "    \n",
    "    def __len__(self) -> int:\n",
    "        return len(self.coco.getImgIds())"
   ]
  },
  {
   "cell_type": "code",
   "execution_count": 5,
   "metadata": {},
   "outputs": [],
   "source": [
    "class TestDataset(Dataset):\n",
    "    '''\n",
    "      data_dir: data가 존재하는 폴더 경로\n",
    "      transforms: data transform (resize, crop, Totensor, etc,,,)\n",
    "    '''\n",
    "\n",
    "    def __init__(self, annotation, data_dir):\n",
    "        super().__init__()\n",
    "        self.data_dir = data_dir\n",
    "        # coco annotation 불러오기 (coco API)\n",
    "        self.coco = COCO(annotation)\n",
    "\n",
    "    def __getitem__(self, index: int):\n",
    "        \n",
    "        image_id = self.coco.getImgIds(imgIds=index)\n",
    "\n",
    "        image_info = self.coco.loadImgs(image_id)[0]\n",
    "        \n",
    "        image = cv2.imread(os.path.join(self.data_dir, image_info['file_name']))\n",
    "        image = cv2.cvtColor(image, cv2.COLOR_BGR2RGB).astype(np.float32)\n",
    "        image /= 255.0\n",
    "\n",
    "        ann_ids = self.coco.getAnnIds(imgIds=image_info['id'])\n",
    "        anns = self.coco.loadAnns(ann_ids)\n",
    "\n",
    "        image = torch.tensor(image, dtype=torch.float32).permute(2,0,1)\n",
    "\n",
    "        return image\n",
    "    \n",
    "    def __len__(self) -> int:\n",
    "        return len(self.coco.getImgIds())"
   ]
  },
  {
   "cell_type": "code",
   "execution_count": 6,
   "metadata": {},
   "outputs": [],
   "source": [
    "def get_train_transform():\n",
    "    return A.Compose([\n",
    "        A.Resize(1024, 1024),\n",
    "        A.OneOf([\n",
    "            A.RandomBrightness(p=1),\n",
    "            A.Blur(p=1),\n",
    "            A.RandomFog(p=1)\n",
    "        ],p=1),\n",
    "        A.OneOf([\n",
    "            A.HorizontalFlip(p=1),\n",
    "            A.VerticalFlip(p=1),\n",
    "            A.RandomRotate90(p=1)\n",
    "        ],p=1),\n",
    "        ToTensorV2(p=1.0)\n",
    "    ], bbox_params={'format': 'pascal_voc', 'label_fields': ['labels']})\n",
    "\n",
    "\n",
    "def get_valid_transform():\n",
    "    return A.Compose([\n",
    "        ToTensorV2(p=1.0)\n",
    "    ], bbox_params={'format': 'pascal_voc', 'label_fields': ['labels']})"
   ]
  },
  {
   "cell_type": "markdown",
   "metadata": {},
   "source": [
    "# Util Functions"
   ]
  },
  {
   "cell_type": "code",
   "execution_count": 7,
   "metadata": {},
   "outputs": [],
   "source": [
    "class Averager:\n",
    "    def __init__(self):\n",
    "        self.current_total = 0.0\n",
    "        self.iterations = 0.0\n",
    "\n",
    "    def send(self, value):\n",
    "        self.current_total += value\n",
    "        self.iterations += 1\n",
    "\n",
    "    @property\n",
    "    def value(self):\n",
    "        if self.iterations == 0:\n",
    "            return 0\n",
    "        else:\n",
    "            return 1.0 * self.current_total / self.iterations\n",
    "\n",
    "    def reset(self):\n",
    "        self.current_total = 0.0\n",
    "        self.iterations = 0.0\n",
    "\n",
    "\n",
    "def collate_fn(batch):\n",
    "    return tuple(zip(*batch))"
   ]
  },
  {
   "cell_type": "markdown",
   "metadata": {},
   "source": [
    "# Trainer"
   ]
  },
  {
   "cell_type": "code",
   "execution_count": 8,
   "metadata": {},
   "outputs": [],
   "source": [
    "best_loss = 1000\n",
    "\n",
    "def train_fn(num_epochs, train_data_loader, valid_data_loader, optimizer, model, device, name, scheduler):\n",
    "    #####----------------------------------------------------------------####\n",
    "    # wandb.watch(model)    \n",
    "    #####----------------------------------------------------------------####\n",
    "    global best_loss\n",
    "\n",
    "    train_loss_hist = Averager()\n",
    "    val_loss_hist = Averager()\n",
    "    \n",
    "    for epoch in range(num_epochs):\n",
    "        train_loss_hist.reset()\n",
    "        # model.train()\n",
    "\n",
    "        # gc.collect()\n",
    "        # torch.cuda.empty_cache()\n",
    "\n",
    "        print(\"Calculating training results....\")\n",
    "        for images, targets, image_ids in tqdm(train_data_loader):\n",
    "            \n",
    "            # gpu 계산을 위해 image.to(device)\n",
    "            images = list(image.float().to(device) for image in images)\n",
    "            targets = [{k: v.to(device) for k, v in t.items()} for t in targets]\n",
    "\n",
    "            # calculate loss\n",
    "            loss_dict = model(images, targets)\n",
    "\n",
    "            losses = sum(loss for loss in loss_dict.values())\n",
    "            loss_value = losses.item()\n",
    "\n",
    "            train_loss_hist.send(loss_value)\n",
    "\n",
    "            # backward\n",
    "            optimizer.zero_grad()\n",
    "            losses.backward()\n",
    "            optimizer.step()\n",
    "\n",
    "        scheduler.step()\n",
    "\n",
    "        with torch.no_grad():\n",
    "            print(\"Calculating validation results....\")\n",
    "            # model.eval()\n",
    "            val_loss_hist.reset()\n",
    "\n",
    "            for images, targets, image_ids in tqdm(valid_data_loader):\n",
    "                images = list(image.float().to(device) for image in images)\n",
    "                targets = [{k: v.to(device) for k, v in t.items()} for t in targets]\n",
    "\n",
    "                val_loss_dict = model(images, targets)\n",
    "\n",
    "                val_losses = sum(loss for loss in val_loss_dict.values())\n",
    "                val_loss_value = val_losses.item()\n",
    "\n",
    "                val_loss_hist.send(val_loss_value)\n",
    "\n",
    "        print(f\"Epoch #{epoch+1} train_loss: {train_loss_hist.value} || val_loss: {val_loss_hist.value}\")\n",
    "        if val_loss_hist.value < best_loss:\n",
    "            save_path = './checkpoints/faster_rcnn_torchvision_checkpoints_'+name+'.pth'\n",
    "            save_dir = os.path.dirname(save_path)\n",
    "            if not os.path.exists(save_dir):\n",
    "                os.makedirs(save_dir)\n",
    "            \n",
    "            torch.save(model.state_dict(), save_path)\n",
    "            best_loss = val_loss_hist.value\n",
    "\n",
    "        \n",
    "        #####----------------------------------------------------------------####\n",
    "        wandb.log(\n",
    "            {\n",
    "                \"train_loss\": train_loss_hist.value,\n",
    "                \"valid_loss\": val_loss_hist.value\n",
    "                }\n",
    "                )\n",
    "        #####----------------------------------------------------------------####"
   ]
  },
  {
   "cell_type": "code",
   "execution_count": 9,
   "metadata": {},
   "outputs": [],
   "source": [
    "# def train_fn(num_epochs, train_data_loader, optimizer, model, device, name, scheduler):\n",
    "#     #####----------------------------------------------------------------####\n",
    "#     wandb.watch(model)    \n",
    "#     #####----------------------------------------------------------------####\n",
    "#     best_loss = 1000\n",
    "#     loss_hist = Averager()\n",
    "#     for epoch in range(num_epochs):\n",
    "#         loss_hist.reset()\n",
    "\n",
    "#         for images, targets, image_ids in tqdm(train_data_loader):\n",
    "\n",
    "#             # gpu 계산을 위해 image.to(device)\n",
    "#             images = list(image.float().to(device) for image in images)\n",
    "#             targets = [{k: v.to(device) for k, v in t.items()} for t in targets]\n",
    "\n",
    "#             # calculate loss\n",
    "#             loss_dict = model(images, targets)\n",
    "\n",
    "#             losses = sum(loss for loss in loss_dict.values())\n",
    "#             loss_value = losses.item()\n",
    "\n",
    "#             loss_hist.send(loss_value)\n",
    "\n",
    "#             # backward\n",
    "#             optimizer.zero_grad()\n",
    "#             losses.backward()\n",
    "#             optimizer.step()\n",
    "\n",
    "#         scheduler.step()\n",
    "\n",
    "        \n",
    "#         print(f\"Epoch #{epoch+1} loss: {loss_hist.value}\")\n",
    "#         if loss_hist.value < best_loss:\n",
    "#             save_path = './checkpoints/faster_rcnn_torchvision_checkpoints_'+name+'.pth'\n",
    "#             save_dir = os.path.dirname(save_path)\n",
    "#             if not os.path.exists(save_dir):\n",
    "#                 os.makedirs(save_dir)\n",
    "            \n",
    "#             torch.save(model.state_dict(), save_path)\n",
    "#             best_loss = loss_hist.value\n",
    "#         #####----------------------------------------------------------------####\n",
    "#         wandb.log({\"train_loss\": loss_hist.value}, step=epoch)\n",
    "#         #####----------------------------------------------------------------####"
   ]
  },
  {
   "cell_type": "markdown",
   "metadata": {},
   "source": [
    "# evaluate function"
   ]
  },
  {
   "cell_type": "code",
   "execution_count": 10,
   "metadata": {},
   "outputs": [],
   "source": [
    "def evaluate_fn(test_data_loader, model, device):\n",
    "    outputs = []\n",
    "    \n",
    "    for images in tqdm(test_data_loader):\n",
    "        # gpu 계산을 위해 image.to(device)\n",
    "        images = list(image.to(device) for image in images)\n",
    "        # print(len(images))  # 8\n",
    "        output = model(images)\n",
    "        # print(len(output))  # 8\n",
    "        for img,out in zip(images,output):\n",
    "            # print(len(out['boxes']))\n",
    "            all_boxes=[]\n",
    "            outputs.append({'boxes': out['boxes'].tolist(), 'scores': out['scores'].tolist(), 'labels': out['labels'].tolist()})\n",
    "    \n",
    "\n",
    "    return outputs"
   ]
  },
  {
   "cell_type": "markdown",
   "metadata": {},
   "source": [
    "# Main"
   ]
  },
  {
   "cell_type": "code",
   "execution_count": 11,
   "metadata": {},
   "outputs": [],
   "source": [
    "# 임시로 만든 config라서 뭘 추가 하면 좋을 지 같이 얘기해보면 좋을 것 같습니다!!\n",
    "# config 안에 들어간 값들은 다 Wandb에 올라가서, 중요한 파라미터 들은 다 넣어야 할 것 같아요.\n",
    "config = {\n",
    "    'epochs': 12,\n",
    "    'batch_size':32,\n",
    "    'shuffle':False,\n",
    "    'num_workers': 0,\n",
    "    'lr': 0.005,\n",
    "    'weight_decay':0.0005,\n",
    "    'lr_decay_step':2,\n",
    "    'momentum':0.9,\n",
    "    'score_threshold': 0.05,\n",
    "    \"augmentation\": [\"RandomRotate90(p=0.5)\", \"RandomBrightness(p=0.5)\"],\n",
    "    \"scheduler\": 'CosineAnnealingWarmUpRestarts(T_0=6, T_mult=1, eta_max=0.02, T_up=2, gamma=0.5 )',\n",
    "    \"optimizer\": 'sgd'\n",
    "}\n"
   ]
  },
  {
   "cell_type": "code",
   "execution_count": 12,
   "metadata": {},
   "outputs": [],
   "source": [
    "# annotation = '../../dataset/train.json' # ann\n",
    "# coco = COCO(annotation)\n",
    "\n"
   ]
  },
  {
   "cell_type": "code",
   "execution_count": 13,
   "metadata": {},
   "outputs": [],
   "source": [
    "def main(config=None):\n",
    "    name = \"kfold_augmentation_2\"\n",
    "    #####--------------------------------wandb 연결 및 config 지정-------------------------------------------------####\n",
    "    # project : 'project 이름' ,\n",
    "    # entity : '팀 이름'\n",
    "    wandb.init(project='object_detection', entity='cv-3-bitcoin', config = config, reinit=True)\n",
    "    wandb.run.name = \"jaeook_test_\"+name  # 실험의 이름 지정\n",
    "    config = wandb.config\n",
    "    #####---------------------------------------------------------------------------------------------####\n",
    "    \n",
    "    # 데이터셋 불러오기\n",
    "    annotation = '../../dataset/train.json' # annotation 경로\n",
    "    data_dir = '../../dataset' # data_dir 경로\n",
    "\n",
    "    #####-------------------------------------------------#####\n",
    "    # with open(annotation) as f: data = json.load(f)\n",
    "    coco = COCO(annotation)\n",
    "    data = coco.loadAnns(list(range(0,23144)))\n",
    "    var = [(ann['image_id'], ann['category_id']) for ann in data]\n",
    "    # var = [(ann['image_id'], ann['category_id']) for ann in data['annotations']]\n",
    "    # X = np.ones((len(data['annotations']),1))   # (bbox 개수, 1)\n",
    "    X = np.ones((len(data),1))   # (bbox 개수, 1)\n",
    "    y = np.array([v[1] for v in var])   # category_id\n",
    "    groups = np.array([v[0] for v in var])  # image_id\n",
    "\n",
    "\n",
    "    cv = StratifiedGroupKFold(n_splits=5)\n",
    "\n",
    "\n",
    "    device = torch.device('cuda') if torch.cuda.is_available() else torch.device('cpu')\n",
    "    print(device)\n",
    "    \n",
    "    # torchvision model 불러오기\n",
    "    model = torchvision.models.detection.fasterrcnn_resnet50_fpn(pretrained=True)\n",
    "    num_classes = 11 # class 개수= 10 + background\n",
    "\n",
    "    # get number of input features for the classifier\n",
    "    in_features = model.roi_heads.box_predictor.cls_score.in_features\n",
    "    model.roi_heads.box_predictor = FastRCNNPredictor(in_features, num_classes)\n",
    "    model.to(device)\n",
    "    params = [p for p in model.parameters() if p.requires_grad]\n",
    "    \n",
    "    optimizer = torch.optim.SGD(params, lr=config.lr, momentum=config.momentum, weight_decay=config.weight_decay)\n",
    "    # optimizer = torch.optim.AdamW(params, lr=config.lr, weight_decay = config.weight_decay)\n",
    "    num_epochs = config.epochs\n",
    "    # scheduler = StepLR(optimizer, config.lr_decay_step, gamma=0.5)\n",
    "    # scheduler = CosineAnnealingLR(optimizer, T_max=6, eta_min=0)\n",
    "    scheduler = CosineAnnealingWarmUpRestarts(optimizer,T_0=6, T_mult=1, eta_max=0.02, T_up=2, gamma=0.5 )\n",
    "    # T_0 : 최초 주기값,\n",
    "    # T_mult는 주기가 반복되면서 최초 주기값에 비해 얼만큼 주기를 늘려나갈 것인지 스케일 값\n",
    "    # eta_max는 learning rate의 최댓값\n",
    "    # T_up은 Warm up 시 필요한 epoch 수를 지정하며 일반적으로 짧은 epoch 수를 지정\n",
    "    # gamma는 주기가 반복될수록 eta_max 곱해지는 스케일값\n",
    "\n",
    "    # scheduler = ReduceLROnPlateau(\n",
    "    #     optimizer,\n",
    "    #     factor=0.5,   # 학습률이 감소하는 요인입니다. new_lr = lr * factor.\n",
    "    #     patience=config.lr_decay_step,\n",
    "    #     threshold=0.001,  \n",
    "    #     verbose=True,  \n",
    "    #     min_lr=1e-4,  \n",
    "    #     threshold_mode=\"abs\",\n",
    "    # )\n",
    "    wandb.watch(model, log='all', log_freq=2)    \n",
    "\n",
    "    n = 0\n",
    "#---------------------------------------추가--------------------------------------------------------#\n",
    "    \n",
    "\n",
    "#---------------------------------------------KFold-------------------------------------------------------#\n",
    "\n",
    "    for train_idx, val_idx in cv.split(X,y,groups):\n",
    "\n",
    "        train_idx = list(set(groups[train_idx])) # 중복되는 index 제거\n",
    "        val_idx = list(set(groups[val_idx]))\n",
    "\n",
    "        train_dataset = torch.utils.data.Subset(CustomDataset(annotation, data_dir, get_train_transform()), indices=train_idx)\n",
    "        train_data_loader = DataLoader(\n",
    "            train_dataset,\n",
    "            batch_size=config.batch_size,\n",
    "            shuffle=config.shuffle,\n",
    "            num_workers=config.num_workers,\n",
    "            collate_fn=collate_fn\n",
    "        )\n",
    "\n",
    "        valid_dataset = torch.utils.data.Subset(CustomDataset(annotation, data_dir, get_valid_transform()), indices=val_idx)\n",
    "        valid_data_loader = DataLoader(\n",
    "            valid_dataset,\n",
    "            batch_size=config.batch_size,\n",
    "            shuffle=config.shuffle,\n",
    "            num_workers=config.num_workers,\n",
    "            collate_fn=collate_fn\n",
    "        )\n",
    "\n",
    "        n += 1\n",
    "\n",
    "        print(\"=\"*50)\n",
    "        print(f\"Fold : {n}\")        \n",
    "\n",
    "        \n",
    "        # training\n",
    "        train_fn(num_epochs, train_data_loader,valid_data_loader, optimizer, model, device, name, scheduler)\n",
    "\n",
    "\n",
    "    #####--------------------------------calculate mAP------------------------------------------------------####\n",
    "\n",
    "    check_point = './checkpoints/faster_rcnn_torchvision_checkpoints_'+ name + '.pth'\n",
    "    \n",
    "    # get number of input features for the classifier\n",
    "    model_eval = torchvision.models.detection.fasterrcnn_resnet50_fpn(pretrained=True)\n",
    "    in_features = model_eval.roi_heads.box_predictor.cls_score.in_features\n",
    "    model_eval.roi_heads.box_predictor = FastRCNNPredictor(in_features, num_classes)\n",
    "    model_eval.to(device)        \n",
    "    model_eval.load_state_dict(torch.load(check_point))\n",
    "    model_eval.eval()\n",
    "\n",
    "    valid_dataset = TestDataset(annotation, data_dir)\n",
    "    valid_data_loader = DataLoader(\n",
    "        valid_dataset,\n",
    "        batch_size = 16,\n",
    "        shuffle = False,\n",
    "        num_workers = 4\n",
    "    )\n",
    "\n",
    "    # predict\n",
    "    outputs = evaluate_fn(valid_data_loader, model_eval, device)\n",
    "    prediction_strings = []\n",
    "    file_names = []\n",
    "    \n",
    "    # coco = COCO(annotation)\n",
    "\n",
    "    # submission 파일 생성\n",
    "    for i, output in enumerate(outputs):\n",
    "        prediction_string = ''\n",
    "        image_info = coco.loadImgs(coco.getImgIds(imgIds=i))[0]\n",
    "        for box, score, label in zip(output['boxes'], output['scores'], output['labels']):\n",
    "            if score > config.score_threshold: \n",
    "                # label[1~10] -> label[0~9]\n",
    "                prediction_string += str(label-1) + ' ' + str(score) + ' ' + str(box[0]) + ' ' + str(\n",
    "                    box[1]) + ' ' + str(box[2]) + ' ' + str(box[3]) + ' '\n",
    "        prediction_strings.append(prediction_string)\n",
    "        file_names.append(image_info['file_name'])\n",
    "    submission = pd.DataFrame()\n",
    "    submission['PredictionString'] = prediction_strings\n",
    "    submission['image_id'] = file_names\n",
    "    submission.to_csv('./faster_rcnn_torchvision_train_submission.csv', index=None)\n",
    "    \n",
    "\n",
    "    PRED_CSV = './faster_rcnn_torchvision_train_submission.csv'\n",
    "    LABEL_NAME = [\"General trash\", \"Paper\", \"Paper pack\", \"Metal\", \n",
    "              \"Glass\", \"Plastic\", \"Styrofoam\", \"Plastic bag\", \"Battery\", \"Clothing\"]\n",
    "\n",
    "    pred_df = pd.read_csv(PRED_CSV)\n",
    "\n",
    "    new_pred = []\n",
    "\n",
    "    file_names = pred_df['image_id'].values.tolist()\n",
    "    bboxes = pred_df['PredictionString'].values.tolist()\n",
    "    \n",
    "    for i, bbox in enumerate(bboxes):\n",
    "        if isinstance(bbox, float):\n",
    "            print(f'{file_names[i]} empty box')\n",
    "\n",
    "    for file_name, bbox in tqdm(zip(file_names, bboxes)):\n",
    "        boxes = np.array(str(bbox).split(' '))\n",
    "    \n",
    "        if len(boxes) % 6 == 1:\n",
    "            boxes = boxes[:-1].reshape(-1, 6)\n",
    "        elif len(boxes) % 6 == 0:\n",
    "            boxes = boxes.reshape(-1, 6)\n",
    "        else:\n",
    "            raise Exception('error', 'invalid box count')\n",
    "        for box in boxes:\n",
    "            new_pred.append([file_name, box[0], box[1], float(box[2]), float(box[4]), float(box[3]), float(box[5])])\n",
    "\n",
    "\n",
    "    gt = []\n",
    "\n",
    "    for image_id in coco.getImgIds():  # GT의 image_id\n",
    "        \n",
    "        image_info = coco.loadImgs(image_id)[0]    \n",
    "        annotation_id = coco.getAnnIds(imgIds=image_info['id'])\n",
    "        annotation_info_list = coco.loadAnns(annotation_id)  # return annotation information list\n",
    "        \n",
    "        file_name = image_info['file_name']\n",
    "        \n",
    "        for annotation in annotation_info_list:\n",
    "            gt.append([file_name, annotation['category_id'],\n",
    "                    float(annotation['bbox'][0]),\n",
    "                    float(annotation['bbox'][0]) + float(annotation['bbox'][2]),\n",
    "                    float(annotation['bbox'][1]),\n",
    "                    (float(annotation['bbox'][1]) + float(annotation['bbox'][3]))])\n",
    "\n",
    "    mean_ap, average_precisions = mean_average_precision_for_boxes(gt, new_pred, iou_threshold=0.5)\n",
    "\n",
    "    wandb.log({\"mAP\": mean_ap})\n",
    "    wandb.run.save()\n",
    "    #####---------------------------------------------------------------------------------------------####"
   ]
  },
  {
   "cell_type": "code",
   "execution_count": 14,
   "metadata": {},
   "outputs": [],
   "source": [
    "# def main(config=None):\n",
    "#     name = \"CosineAnealingWarmUpRestarts_threshold0.025\"\n",
    "#     #####--------------------------------wandb 연결 및 config 지정-------------------------------------------------####\n",
    "#     # project : 'project 이름' ,\n",
    "#     # entity : '팀 이름'\n",
    "#     wandb.init(project='object_detection', entity='cv-3-bitcoin', config = config, reinit=True)\n",
    "#     wandb.run.name = \"jaeook_test_\"+name  # 실험의 이름 지정\n",
    "#     config = wandb.config\n",
    "#     #####---------------------------------------------------------------------------------------------####\n",
    "    \n",
    "#     # 데이터셋 불러오기\n",
    "#     annotation = '../../dataset/train.json' # annotation 경로\n",
    "#     data_dir = '../../dataset' # data_dir 경로\n",
    "\n",
    "\n",
    "#     train_dataset = CustomDataset(annotation, data_dir, get_train_transform()) \n",
    "#     train_data_loader = DataLoader(\n",
    "#         train_dataset,\n",
    "#         batch_size=config.batch_size,\n",
    "#         shuffle=config.shuffle,\n",
    "#         num_workers=config.num_workers,\n",
    "#         collate_fn=collate_fn\n",
    "#     )\n",
    "#     device = torch.device('cuda') if torch.cuda.is_available() else torch.device('cpu')\n",
    "#     print(device)\n",
    "    \n",
    "#     # torchvision model 불러오기\n",
    "#     model = torchvision.models.detection.fasterrcnn_resnet50_fpn(pretrained=True)\n",
    "#     num_classes = 11 # class 개수= 10 + background\n",
    "\n",
    "#     # get number of input features for the classifier\n",
    "#     in_features = model.roi_heads.box_predictor.cls_score.in_features\n",
    "#     model.roi_heads.box_predictor = FastRCNNPredictor(in_features, num_classes)\n",
    "#     model.to(device)\n",
    "#     params = [p for p in model.parameters() if p.requires_grad]\n",
    "    \n",
    "#     optimizer = torch.optim.SGD(params, lr=config.lr, momentum=config.momentum, weight_decay=config.weight_decay)\n",
    "#     # optimizer = torch.optim.AdamW(params, lr=config.lr, weight_decay = config.weight_decay)\n",
    "#     num_epochs = config.epochs\n",
    "#     # scheduler = StepLR(optimizer, config.lr_decay_step, gamma=0.5)\n",
    "#     # scheduler = CosineAnnealingLR(optimizer, T_max=6, eta_min=0)\n",
    "#     scheduler = CosineAnnealingWarmUpRestarts(optimizer,T_0=6, T_mult=1, eta_max=0.02, T_up=2, gamma=0.5 )\n",
    "#     # T_0 : 최초 주기값,\n",
    "#     # T_mult는 주기가 반복되면서 최초 주기값에 비해 얼만큼 주기를 늘려나갈 것인지 스케일 값\n",
    "#     # eta_max는 learning rate의 최댓값\n",
    "#     # T_up은 Warm up 시 필요한 epoch 수를 지정하며 일반적으로 짧은 epoch 수를 지정\n",
    "#     # gamma는 주기가 반복될수록 eta_max 곱해지는 스케일값\n",
    "\n",
    "#     # scheduler = ReduceLROnPlateau(\n",
    "#     #     optimizer,\n",
    "#     #     factor=0.5,   # 학습률이 감소하는 요인입니다. new_lr = lr * factor.\n",
    "#     #     patience=config.lr_decay_step,\n",
    "#     #     threshold=0.001,  \n",
    "#     #     verbose=True,  \n",
    "#     #     min_lr=1e-4,  \n",
    "#     #     threshold_mode=\"abs\",\n",
    "#     # )\n",
    "    \n",
    "#     # training\n",
    "#     train_fn(num_epochs, train_data_loader, optimizer, model, device, name, scheduler)\n",
    "\n",
    "\n",
    "#     #####--------------------------------calculate mAP------------------------------------------------------####\n",
    "#     valid_dataset = ValidDataset(annotation, data_dir)\n",
    "#     valid_data_loader = DataLoader(\n",
    "#         valid_dataset,\n",
    "#         batch_size=config.batch_size,\n",
    "#         shuffle=config.shuffle,\n",
    "#         num_workers=config.num_workers\n",
    "#     )\n",
    "\n",
    "#     score_threshold = 0.05\n",
    "\n",
    "#     model.eval()\n",
    "\n",
    "#     # predict\n",
    "#     outputs = evaluate_fn(valid_data_loader, model, device)\n",
    "#     prediction_strings = []\n",
    "#     file_names = []\n",
    "    \n",
    "#     coco = COCO(annotation)\n",
    "\n",
    "#     # submission 파일 생성\n",
    "#     for i, output in enumerate(outputs):\n",
    "#         prediction_string = ''\n",
    "#         image_info = coco.loadImgs(coco.getImgIds(imgIds=i))[0]\n",
    "#         for box, score, label in zip(output['boxes'], output['scores'], output['labels']):\n",
    "#             if score > config.score_threshold: \n",
    "#                 # label[1~10] -> label[0~9]\n",
    "#                 prediction_string += str(label-1) + ' ' + str(score) + ' ' + str(box[0]) + ' ' + str(\n",
    "#                     box[1]) + ' ' + str(box[2]) + ' ' + str(box[3]) + ' '\n",
    "#         prediction_strings.append(prediction_string)\n",
    "#         file_names.append(image_info['file_name'])\n",
    "#     submission = pd.DataFrame()\n",
    "#     submission['PredictionString'] = prediction_strings\n",
    "#     submission['image_id'] = file_names\n",
    "#     submission.to_csv('./faster_rcnn_torchvision_train_submission.csv', index=None)\n",
    "    \n",
    "\n",
    "#     PRED_CSV = './faster_rcnn_torchvision_train_submission.csv'\n",
    "#     LABEL_NAME = [\"General trash\", \"Paper\", \"Paper pack\", \"Metal\", \n",
    "#               \"Glass\", \"Plastic\", \"Styrofoam\", \"Plastic bag\", \"Battery\", \"Clothing\"]\n",
    "\n",
    "#     pred_df = pd.read_csv(PRED_CSV)\n",
    "\n",
    "#     new_pred = []\n",
    "\n",
    "#     file_names = pred_df['image_id'].values.tolist()\n",
    "#     bboxes = pred_df['PredictionString'].values.tolist()\n",
    "    \n",
    "#     for i, bbox in enumerate(bboxes):\n",
    "#         if isinstance(bbox, float):\n",
    "#             print(f'{file_names[i]} empty box')\n",
    "\n",
    "#     for file_name, bbox in tqdm(zip(file_names, bboxes)):\n",
    "#         boxes = np.array(str(bbox).split(' '))\n",
    "    \n",
    "#         if len(boxes) % 6 == 1:\n",
    "#             boxes = boxes[:-1].reshape(-1, 6)\n",
    "#         elif len(boxes) % 6 == 0:\n",
    "#             boxes = boxes.reshape(-1, 6)\n",
    "#         else:\n",
    "#             raise Exception('error', 'invalid box count')\n",
    "#         for box in boxes:\n",
    "#             new_pred.append([file_name, box[0], box[1], float(box[2]), float(box[4]), float(box[3]), float(box[5])])\n",
    "\n",
    "\n",
    "#     gt = []\n",
    "\n",
    "#     for image_id in coco.getImgIds():  # GT의 image_id\n",
    "        \n",
    "#         image_info = coco.loadImgs(image_id)[0]    \n",
    "#         annotation_id = coco.getAnnIds(imgIds=image_info['id'])\n",
    "#         annotation_info_list = coco.loadAnns(annotation_id)  # return annotation information list\n",
    "        \n",
    "#         file_name = image_info['file_name']\n",
    "        \n",
    "#         for annotation in annotation_info_list:\n",
    "#             gt.append([file_name, annotation['category_id'],\n",
    "#                     float(annotation['bbox'][0]),\n",
    "#                     float(annotation['bbox'][0]) + float(annotation['bbox'][2]),\n",
    "#                     float(annotation['bbox'][1]),\n",
    "#                     (float(annotation['bbox'][1]) + float(annotation['bbox'][3]))])\n",
    "\n",
    "#     mean_ap, average_precisions = mean_average_precision_for_boxes(gt, new_pred, iou_threshold=0.5)\n",
    "\n",
    "#     wandb.log({\"mAP\": mean_ap})\n",
    "#     wandb.run.save()\n",
    "#     #####---------------------------------------------------------------------------------------------####"
   ]
  },
  {
   "cell_type": "code",
   "execution_count": 15,
   "metadata": {},
   "outputs": [
    {
     "data": {
      "text/html": [
       "Tracking run with wandb version 0.12.11"
      ],
      "text/plain": [
       "<IPython.core.display.HTML object>"
      ]
     },
     "metadata": {},
     "output_type": "display_data"
    },
    {
     "data": {
      "text/html": [
       "Run data is saved locally in <code>/opt/ml/detection/baseline/faster_rcnn/wandb/run-20220326_213313-1hu8tk0s</code>"
      ],
      "text/plain": [
       "<IPython.core.display.HTML object>"
      ]
     },
     "metadata": {},
     "output_type": "display_data"
    },
    {
     "data": {
      "text/html": [
       "Syncing run <strong><a href=\"https://wandb.ai/cv-3-bitcoin/object_detection/runs/1hu8tk0s\" target=\"_blank\">iconic-glitter-79</a></strong> to <a href=\"https://wandb.ai/cv-3-bitcoin/object_detection\" target=\"_blank\">Weights & Biases</a> (<a href=\"https://wandb.me/run\" target=\"_blank\">docs</a>)<br/>"
      ],
      "text/plain": [
       "<IPython.core.display.HTML object>"
      ]
     },
     "metadata": {},
     "output_type": "display_data"
    },
    {
     "name": "stdout",
     "output_type": "stream",
     "text": [
      "loading annotations into memory...\n",
      "Done (t=0.08s)\n",
      "creating index...\n",
      "index created!\n",
      "cuda\n",
      "loading annotations into memory...\n",
      "Done (t=0.08s)\n",
      "creating index...\n",
      "index created!\n",
      "loading annotations into memory...\n",
      "Done (t=0.24s)\n",
      "creating index...\n",
      "index created!\n",
      "==================================================\n",
      "Fold : 1\n",
      "Calculating training results....\n"
     ]
    },
    {
     "name": "stderr",
     "output_type": "stream",
     "text": [
      "100%|██████████| 123/123 [11:49<00:00,  5.77s/it]\n"
     ]
    },
    {
     "name": "stdout",
     "output_type": "stream",
     "text": [
      "Calculating validation results....\n"
     ]
    },
    {
     "name": "stderr",
     "output_type": "stream",
     "text": [
      "100%|██████████| 31/31 [00:56<00:00,  1.81s/it]\n"
     ]
    },
    {
     "name": "stdout",
     "output_type": "stream",
     "text": [
      "Epoch #1 train_loss: 0.8139808323325181 || val_loss: 0.62773383432819\n",
      "Calculating training results....\n"
     ]
    },
    {
     "name": "stderr",
     "output_type": "stream",
     "text": [
      "100%|██████████| 123/123 [12:30<00:00,  6.10s/it]\n"
     ]
    },
    {
     "name": "stdout",
     "output_type": "stream",
     "text": [
      "Calculating validation results....\n"
     ]
    },
    {
     "name": "stderr",
     "output_type": "stream",
     "text": [
      "100%|██████████| 31/31 [00:56<00:00,  1.81s/it]\n"
     ]
    },
    {
     "name": "stdout",
     "output_type": "stream",
     "text": [
      "Epoch #2 train_loss: 0.6036519008438762 || val_loss: 0.5715096141061475\n",
      "Calculating training results....\n"
     ]
    },
    {
     "name": "stderr",
     "output_type": "stream",
     "text": [
      "100%|██████████| 123/123 [12:00<00:00,  5.86s/it]\n"
     ]
    },
    {
     "name": "stdout",
     "output_type": "stream",
     "text": [
      "Calculating validation results....\n"
     ]
    },
    {
     "name": "stderr",
     "output_type": "stream",
     "text": [
      "100%|██████████| 31/31 [00:54<00:00,  1.75s/it]\n"
     ]
    },
    {
     "name": "stdout",
     "output_type": "stream",
     "text": [
      "Epoch #3 train_loss: 0.5717909777067541 || val_loss: 0.5608348221548142\n",
      "Calculating training results....\n"
     ]
    },
    {
     "name": "stderr",
     "output_type": "stream",
     "text": [
      "100%|██████████| 123/123 [12:28<00:00,  6.09s/it]\n"
     ]
    },
    {
     "name": "stdout",
     "output_type": "stream",
     "text": [
      "Calculating validation results....\n"
     ]
    },
    {
     "name": "stderr",
     "output_type": "stream",
     "text": [
      "100%|██████████| 31/31 [00:56<00:00,  1.81s/it]\n"
     ]
    },
    {
     "name": "stdout",
     "output_type": "stream",
     "text": [
      "Epoch #4 train_loss: 0.5436960698627844 || val_loss: 0.5448076705778798\n",
      "Calculating training results....\n"
     ]
    },
    {
     "name": "stderr",
     "output_type": "stream",
     "text": [
      "100%|██████████| 123/123 [12:06<00:00,  5.90s/it]\n"
     ]
    },
    {
     "name": "stdout",
     "output_type": "stream",
     "text": [
      "Calculating validation results....\n"
     ]
    },
    {
     "name": "stderr",
     "output_type": "stream",
     "text": [
      "100%|██████████| 31/31 [00:55<00:00,  1.80s/it]\n"
     ]
    },
    {
     "name": "stdout",
     "output_type": "stream",
     "text": [
      "Epoch #5 train_loss: 0.5134291922658439 || val_loss: 0.5082402585014221\n",
      "Calculating training results....\n"
     ]
    },
    {
     "name": "stderr",
     "output_type": "stream",
     "text": [
      "100%|██████████| 123/123 [12:01<00:00,  5.87s/it]\n"
     ]
    },
    {
     "name": "stdout",
     "output_type": "stream",
     "text": [
      "Calculating validation results....\n"
     ]
    },
    {
     "name": "stderr",
     "output_type": "stream",
     "text": [
      "100%|██████████| 31/31 [00:55<00:00,  1.80s/it]\n"
     ]
    },
    {
     "name": "stdout",
     "output_type": "stream",
     "text": [
      "Epoch #6 train_loss: 0.4921621517921851 || val_loss: 0.4840999803235454\n",
      "Calculating training results....\n"
     ]
    },
    {
     "name": "stderr",
     "output_type": "stream",
     "text": [
      "100%|██████████| 123/123 [11:43<00:00,  5.72s/it]\n"
     ]
    },
    {
     "name": "stdout",
     "output_type": "stream",
     "text": [
      "Calculating validation results....\n"
     ]
    },
    {
     "name": "stderr",
     "output_type": "stream",
     "text": [
      "100%|██████████| 31/31 [00:55<00:00,  1.80s/it]\n"
     ]
    },
    {
     "name": "stdout",
     "output_type": "stream",
     "text": [
      "Epoch #7 train_loss: 0.47790754859040424 || val_loss: 0.4839205607291191\n",
      "Calculating training results....\n"
     ]
    },
    {
     "name": "stderr",
     "output_type": "stream",
     "text": [
      "100%|██████████| 123/123 [12:26<00:00,  6.07s/it]\n"
     ]
    },
    {
     "name": "stdout",
     "output_type": "stream",
     "text": [
      "Calculating validation results....\n"
     ]
    },
    {
     "name": "stderr",
     "output_type": "stream",
     "text": [
      "100%|██████████| 31/31 [00:56<00:00,  1.81s/it]\n"
     ]
    },
    {
     "name": "stdout",
     "output_type": "stream",
     "text": [
      "Epoch #8 train_loss: 0.4788944440159371 || val_loss: 0.4876145624345349\n",
      "Calculating training results....\n"
     ]
    },
    {
     "name": "stderr",
     "output_type": "stream",
     "text": [
      "100%|██████████| 123/123 [11:56<00:00,  5.82s/it]\n"
     ]
    },
    {
     "name": "stdout",
     "output_type": "stream",
     "text": [
      "Calculating validation results....\n"
     ]
    },
    {
     "name": "stderr",
     "output_type": "stream",
     "text": [
      "100%|██████████| 31/31 [00:56<00:00,  1.81s/it]\n"
     ]
    },
    {
     "name": "stdout",
     "output_type": "stream",
     "text": [
      "Epoch #9 train_loss: 0.4737325188347964 || val_loss: 0.49331186183037296\n",
      "Calculating training results....\n"
     ]
    },
    {
     "name": "stderr",
     "output_type": "stream",
     "text": [
      "100%|██████████| 123/123 [12:26<00:00,  6.07s/it]\n"
     ]
    },
    {
     "name": "stdout",
     "output_type": "stream",
     "text": [
      "Calculating validation results....\n"
     ]
    },
    {
     "name": "stderr",
     "output_type": "stream",
     "text": [
      "100%|██████████| 31/31 [00:56<00:00,  1.81s/it]\n"
     ]
    },
    {
     "name": "stdout",
     "output_type": "stream",
     "text": [
      "Epoch #10 train_loss: 0.4675924950014285 || val_loss: 0.4864153996590645\n",
      "Calculating training results....\n"
     ]
    },
    {
     "name": "stderr",
     "output_type": "stream",
     "text": [
      "100%|██████████| 123/123 [11:57<00:00,  5.84s/it]\n"
     ]
    },
    {
     "name": "stdout",
     "output_type": "stream",
     "text": [
      "Calculating validation results....\n"
     ]
    },
    {
     "name": "stderr",
     "output_type": "stream",
     "text": [
      "100%|██████████| 31/31 [00:56<00:00,  1.82s/it]\n"
     ]
    },
    {
     "name": "stdout",
     "output_type": "stream",
     "text": [
      "Epoch #11 train_loss: 0.46057504948561756 || val_loss: 0.497232832254902\n",
      "Calculating training results....\n"
     ]
    },
    {
     "name": "stderr",
     "output_type": "stream",
     "text": [
      "100%|██████████| 123/123 [12:11<00:00,  5.95s/it]\n"
     ]
    },
    {
     "name": "stdout",
     "output_type": "stream",
     "text": [
      "Calculating validation results....\n"
     ]
    },
    {
     "name": "stderr",
     "output_type": "stream",
     "text": [
      "100%|██████████| 31/31 [00:55<00:00,  1.80s/it]\n"
     ]
    },
    {
     "name": "stdout",
     "output_type": "stream",
     "text": [
      "Epoch #12 train_loss: 0.4515483169778576 || val_loss: 0.47494909647972355\n",
      "Calculating training results....\n"
     ]
    },
    {
     "name": "stderr",
     "output_type": "stream",
     "text": [
      "100%|██████████| 123/123 [12:39<00:00,  6.18s/it]\n"
     ]
    },
    {
     "name": "stdout",
     "output_type": "stream",
     "text": [
      "Calculating validation results....\n"
     ]
    },
    {
     "name": "stderr",
     "output_type": "stream",
     "text": [
      "100%|██████████| 31/31 [00:55<00:00,  1.79s/it]\n"
     ]
    },
    {
     "name": "stdout",
     "output_type": "stream",
     "text": [
      "Epoch #13 train_loss: 0.4460141416487655 || val_loss: 0.4753611356981339\n",
      "Calculating training results....\n"
     ]
    },
    {
     "name": "stderr",
     "output_type": "stream",
     "text": [
      "100%|██████████| 123/123 [12:18<00:00,  6.01s/it]\n"
     ]
    },
    {
     "name": "stdout",
     "output_type": "stream",
     "text": [
      "Calculating validation results....\n"
     ]
    },
    {
     "name": "stderr",
     "output_type": "stream",
     "text": [
      "100%|██████████| 31/31 [00:55<00:00,  1.80s/it]\n"
     ]
    },
    {
     "name": "stdout",
     "output_type": "stream",
     "text": [
      "Epoch #14 train_loss: 0.44054191723102476 || val_loss: 0.4670789549427648\n",
      "Calculating training results....\n"
     ]
    },
    {
     "name": "stderr",
     "output_type": "stream",
     "text": [
      "100%|██████████| 123/123 [12:03<00:00,  5.88s/it]\n"
     ]
    },
    {
     "name": "stdout",
     "output_type": "stream",
     "text": [
      "Calculating validation results....\n"
     ]
    },
    {
     "name": "stderr",
     "output_type": "stream",
     "text": [
      "100%|██████████| 31/31 [00:55<00:00,  1.79s/it]\n"
     ]
    },
    {
     "name": "stdout",
     "output_type": "stream",
     "text": [
      "Epoch #15 train_loss: 0.43706107478800826 || val_loss: 0.4674752421917454\n",
      "loading annotations into memory...\n",
      "Done (t=0.07s)\n",
      "creating index...\n",
      "index created!\n",
      "loading annotations into memory...\n",
      "Done (t=0.26s)\n",
      "creating index...\n",
      "index created!\n",
      "==================================================\n",
      "Fold : 2\n",
      "Calculating training results....\n"
     ]
    },
    {
     "name": "stderr",
     "output_type": "stream",
     "text": [
      "100%|██████████| 123/123 [12:15<00:00,  5.98s/it]\n"
     ]
    },
    {
     "name": "stdout",
     "output_type": "stream",
     "text": [
      "Calculating validation results....\n"
     ]
    },
    {
     "name": "stderr",
     "output_type": "stream",
     "text": [
      "100%|██████████| 31/31 [00:54<00:00,  1.77s/it]\n"
     ]
    },
    {
     "name": "stdout",
     "output_type": "stream",
     "text": [
      "Epoch #1 train_loss: 0.4527139083399036 || val_loss: 0.40417048527348426\n",
      "Calculating training results....\n"
     ]
    },
    {
     "name": "stderr",
     "output_type": "stream",
     "text": [
      "100%|██████████| 123/123 [11:19<00:00,  5.53s/it]\n"
     ]
    },
    {
     "name": "stdout",
     "output_type": "stream",
     "text": [
      "Calculating validation results....\n"
     ]
    },
    {
     "name": "stderr",
     "output_type": "stream",
     "text": [
      "100%|██████████| 31/31 [00:54<00:00,  1.76s/it]\n"
     ]
    },
    {
     "name": "stdout",
     "output_type": "stream",
     "text": [
      "Epoch #2 train_loss: 0.44610160322693304 || val_loss: 0.4064141963758776\n",
      "Calculating training results....\n"
     ]
    },
    {
     "name": "stderr",
     "output_type": "stream",
     "text": [
      "100%|██████████| 123/123 [11:37<00:00,  5.67s/it]\n"
     ]
    },
    {
     "name": "stdout",
     "output_type": "stream",
     "text": [
      "Calculating validation results....\n"
     ]
    },
    {
     "name": "stderr",
     "output_type": "stream",
     "text": [
      "100%|██████████| 31/31 [00:55<00:00,  1.78s/it]\n"
     ]
    },
    {
     "name": "stdout",
     "output_type": "stream",
     "text": [
      "Epoch #3 train_loss: 0.4403927108136619 || val_loss: 0.4062847629670174\n",
      "Calculating training results....\n"
     ]
    },
    {
     "name": "stderr",
     "output_type": "stream",
     "text": [
      "100%|██████████| 123/123 [11:49<00:00,  5.77s/it]\n"
     ]
    },
    {
     "name": "stdout",
     "output_type": "stream",
     "text": [
      "Calculating validation results....\n"
     ]
    },
    {
     "name": "stderr",
     "output_type": "stream",
     "text": [
      "100%|██████████| 31/31 [00:55<00:00,  1.79s/it]\n"
     ]
    },
    {
     "name": "stdout",
     "output_type": "stream",
     "text": [
      "Epoch #4 train_loss: 0.4382758105431146 || val_loss: 0.4052893538628855\n",
      "Calculating training results....\n"
     ]
    },
    {
     "name": "stderr",
     "output_type": "stream",
     "text": [
      "100%|██████████| 123/123 [11:22<00:00,  5.55s/it]\n"
     ]
    },
    {
     "name": "stdout",
     "output_type": "stream",
     "text": [
      "Calculating validation results....\n"
     ]
    },
    {
     "name": "stderr",
     "output_type": "stream",
     "text": [
      "100%|██████████| 31/31 [00:55<00:00,  1.80s/it]\n"
     ]
    },
    {
     "name": "stdout",
     "output_type": "stream",
     "text": [
      "Epoch #5 train_loss: 0.4313891487635248 || val_loss: 0.40638546597573066\n",
      "Calculating training results....\n"
     ]
    },
    {
     "name": "stderr",
     "output_type": "stream",
     "text": [
      "100%|██████████| 123/123 [11:50<00:00,  5.77s/it]\n"
     ]
    },
    {
     "name": "stdout",
     "output_type": "stream",
     "text": [
      "Calculating validation results....\n"
     ]
    },
    {
     "name": "stderr",
     "output_type": "stream",
     "text": [
      "100%|██████████| 31/31 [00:53<00:00,  1.73s/it]\n"
     ]
    },
    {
     "name": "stdout",
     "output_type": "stream",
     "text": [
      "Epoch #6 train_loss: 0.42787813510352035 || val_loss: 0.4055497117580906\n",
      "Calculating training results....\n"
     ]
    },
    {
     "name": "stderr",
     "output_type": "stream",
     "text": [
      "100%|██████████| 123/123 [11:44<00:00,  5.73s/it]\n"
     ]
    },
    {
     "name": "stdout",
     "output_type": "stream",
     "text": [
      "Calculating validation results....\n"
     ]
    },
    {
     "name": "stderr",
     "output_type": "stream",
     "text": [
      "100%|██████████| 31/31 [00:55<00:00,  1.81s/it]\n"
     ]
    },
    {
     "name": "stdout",
     "output_type": "stream",
     "text": [
      "Epoch #7 train_loss: 0.4248962190335359 || val_loss: 0.40615596694331013\n",
      "Calculating training results....\n"
     ]
    },
    {
     "name": "stderr",
     "output_type": "stream",
     "text": [
      " 20%|█▉        | 24/123 [02:13<09:04,  5.50s/it]wandb: Network error (ReadTimeout), entering retry loop.\n",
      "100%|██████████| 123/123 [11:14<00:00,  5.49s/it]\n"
     ]
    },
    {
     "name": "stdout",
     "output_type": "stream",
     "text": [
      "Calculating validation results....\n"
     ]
    },
    {
     "name": "stderr",
     "output_type": "stream",
     "text": [
      "100%|██████████| 31/31 [00:55<00:00,  1.77s/it]\n"
     ]
    },
    {
     "name": "stdout",
     "output_type": "stream",
     "text": [
      "Epoch #8 train_loss: 0.4241677229481984 || val_loss: 0.40976094911175387\n",
      "Calculating training results....\n"
     ]
    },
    {
     "name": "stderr",
     "output_type": "stream",
     "text": [
      "100%|██████████| 123/123 [11:43<00:00,  5.72s/it]\n"
     ]
    },
    {
     "name": "stdout",
     "output_type": "stream",
     "text": [
      "Calculating validation results....\n"
     ]
    },
    {
     "name": "stderr",
     "output_type": "stream",
     "text": [
      "100%|██████████| 31/31 [00:55<00:00,  1.79s/it]\n"
     ]
    },
    {
     "name": "stdout",
     "output_type": "stream",
     "text": [
      "Epoch #9 train_loss: 0.42453574504309555 || val_loss: 0.4010494630182943\n",
      "Calculating training results....\n"
     ]
    },
    {
     "name": "stderr",
     "output_type": "stream",
     "text": [
      "100%|██████████| 123/123 [11:30<00:00,  5.61s/it]\n"
     ]
    },
    {
     "name": "stdout",
     "output_type": "stream",
     "text": [
      "Calculating validation results....\n"
     ]
    },
    {
     "name": "stderr",
     "output_type": "stream",
     "text": [
      "100%|██████████| 31/31 [00:54<00:00,  1.76s/it]\n"
     ]
    },
    {
     "name": "stdout",
     "output_type": "stream",
     "text": [
      "Epoch #10 train_loss: 0.42123969601906414 || val_loss: 0.40928132014889873\n",
      "Calculating training results....\n"
     ]
    },
    {
     "name": "stderr",
     "output_type": "stream",
     "text": [
      "100%|██████████| 123/123 [11:33<00:00,  5.64s/it]\n"
     ]
    },
    {
     "name": "stdout",
     "output_type": "stream",
     "text": [
      "Calculating validation results....\n"
     ]
    },
    {
     "name": "stderr",
     "output_type": "stream",
     "text": [
      "100%|██████████| 31/31 [00:54<00:00,  1.77s/it]\n"
     ]
    },
    {
     "name": "stdout",
     "output_type": "stream",
     "text": [
      "Epoch #11 train_loss: 0.414827694495519 || val_loss: 0.40790823294270423\n",
      "Calculating training results....\n"
     ]
    },
    {
     "name": "stderr",
     "output_type": "stream",
     "text": [
      "100%|██████████| 123/123 [11:58<00:00,  5.84s/it]\n"
     ]
    },
    {
     "name": "stdout",
     "output_type": "stream",
     "text": [
      "Calculating validation results....\n"
     ]
    },
    {
     "name": "stderr",
     "output_type": "stream",
     "text": [
      "100%|██████████| 31/31 [00:55<00:00,  1.79s/it]\n"
     ]
    },
    {
     "name": "stdout",
     "output_type": "stream",
     "text": [
      "Epoch #12 train_loss: 0.4060842219164701 || val_loss: 0.3994176983833313\n",
      "Calculating training results....\n"
     ]
    },
    {
     "name": "stderr",
     "output_type": "stream",
     "text": [
      "100%|██████████| 123/123 [11:39<00:00,  5.68s/it]\n"
     ]
    },
    {
     "name": "stdout",
     "output_type": "stream",
     "text": [
      "Calculating validation results....\n"
     ]
    },
    {
     "name": "stderr",
     "output_type": "stream",
     "text": [
      "100%|██████████| 31/31 [00:55<00:00,  1.79s/it]\n"
     ]
    },
    {
     "name": "stdout",
     "output_type": "stream",
     "text": [
      "Epoch #13 train_loss: 0.40729572109090606 || val_loss: 0.4021928031598368\n",
      "Calculating training results....\n"
     ]
    },
    {
     "name": "stderr",
     "output_type": "stream",
     "text": [
      "100%|██████████| 123/123 [12:10<00:00,  5.94s/it]\n"
     ]
    },
    {
     "name": "stdout",
     "output_type": "stream",
     "text": [
      "Calculating validation results....\n"
     ]
    },
    {
     "name": "stderr",
     "output_type": "stream",
     "text": [
      "100%|██████████| 31/31 [00:55<00:00,  1.80s/it]\n"
     ]
    },
    {
     "name": "stdout",
     "output_type": "stream",
     "text": [
      "Epoch #14 train_loss: 0.406180621404958 || val_loss: 0.4075620597408664\n",
      "Calculating training results....\n"
     ]
    },
    {
     "name": "stderr",
     "output_type": "stream",
     "text": [
      "100%|██████████| 123/123 [11:36<00:00,  5.66s/it]\n"
     ]
    },
    {
     "name": "stdout",
     "output_type": "stream",
     "text": [
      "Calculating validation results....\n"
     ]
    },
    {
     "name": "stderr",
     "output_type": "stream",
     "text": [
      "100%|██████████| 31/31 [00:55<00:00,  1.79s/it]\n"
     ]
    },
    {
     "name": "stdout",
     "output_type": "stream",
     "text": [
      "Epoch #15 train_loss: 0.40989989345151234 || val_loss: 0.4123453786296229\n",
      "loading annotations into memory...\n",
      "Done (t=0.10s)\n",
      "creating index...\n",
      "index created!\n",
      "loading annotations into memory...\n",
      "Done (t=0.27s)\n",
      "creating index...\n",
      "index created!\n",
      "==================================================\n",
      "Fold : 3\n",
      "Calculating training results....\n"
     ]
    },
    {
     "name": "stderr",
     "output_type": "stream",
     "text": [
      "100%|██████████| 122/122 [12:10<00:00,  5.99s/it]\n"
     ]
    },
    {
     "name": "stdout",
     "output_type": "stream",
     "text": [
      "Calculating validation results....\n"
     ]
    },
    {
     "name": "stderr",
     "output_type": "stream",
     "text": [
      "100%|██████████| 31/31 [00:55<00:00,  1.80s/it]\n"
     ]
    },
    {
     "name": "stdout",
     "output_type": "stream",
     "text": [
      "Epoch #1 train_loss: 0.42027503154316886 || val_loss: 0.37606967456879153\n",
      "Calculating training results....\n"
     ]
    },
    {
     "name": "stderr",
     "output_type": "stream",
     "text": [
      "100%|██████████| 122/122 [11:49<00:00,  5.81s/it]\n"
     ]
    },
    {
     "name": "stdout",
     "output_type": "stream",
     "text": [
      "Calculating validation results....\n"
     ]
    },
    {
     "name": "stderr",
     "output_type": "stream",
     "text": [
      "100%|██████████| 31/31 [00:55<00:00,  1.80s/it]\n"
     ]
    },
    {
     "name": "stdout",
     "output_type": "stream",
     "text": [
      "Epoch #2 train_loss: 0.4097049634476177 || val_loss: 0.3742163291861934\n",
      "Calculating training results....\n"
     ]
    },
    {
     "name": "stderr",
     "output_type": "stream",
     "text": [
      "100%|██████████| 122/122 [12:20<00:00,  6.07s/it]\n"
     ]
    },
    {
     "name": "stdout",
     "output_type": "stream",
     "text": [
      "Calculating validation results....\n"
     ]
    },
    {
     "name": "stderr",
     "output_type": "stream",
     "text": [
      "100%|██████████| 31/31 [00:54<00:00,  1.77s/it]\n"
     ]
    },
    {
     "name": "stdout",
     "output_type": "stream",
     "text": [
      "Epoch #3 train_loss: 0.39926195840855117 || val_loss: 0.36460885357472206\n",
      "Calculating training results....\n"
     ]
    },
    {
     "name": "stderr",
     "output_type": "stream",
     "text": [
      "100%|██████████| 122/122 [12:19<00:00,  6.07s/it]\n"
     ]
    },
    {
     "name": "stdout",
     "output_type": "stream",
     "text": [
      "Calculating validation results....\n"
     ]
    },
    {
     "name": "stderr",
     "output_type": "stream",
     "text": [
      "100%|██████████| 31/31 [00:55<00:00,  1.79s/it]\n"
     ]
    },
    {
     "name": "stdout",
     "output_type": "stream",
     "text": [
      "Epoch #4 train_loss: 0.40101888983464634 || val_loss: 0.36720678739009366\n",
      "Calculating training results....\n"
     ]
    },
    {
     "name": "stderr",
     "output_type": "stream",
     "text": [
      "100%|██████████| 122/122 [12:02<00:00,  5.92s/it]\n"
     ]
    },
    {
     "name": "stdout",
     "output_type": "stream",
     "text": [
      "Calculating validation results....\n"
     ]
    },
    {
     "name": "stderr",
     "output_type": "stream",
     "text": [
      "100%|██████████| 31/31 [00:54<00:00,  1.76s/it]\n"
     ]
    },
    {
     "name": "stdout",
     "output_type": "stream",
     "text": [
      "Epoch #5 train_loss: 0.4043128596710377 || val_loss: 0.37792316271412757\n",
      "Calculating training results....\n"
     ]
    },
    {
     "name": "stderr",
     "output_type": "stream",
     "text": [
      "100%|██████████| 122/122 [12:21<00:00,  6.08s/it]\n"
     ]
    },
    {
     "name": "stdout",
     "output_type": "stream",
     "text": [
      "Calculating validation results....\n"
     ]
    },
    {
     "name": "stderr",
     "output_type": "stream",
     "text": [
      "100%|██████████| 31/31 [00:55<00:00,  1.80s/it]\n"
     ]
    },
    {
     "name": "stdout",
     "output_type": "stream",
     "text": [
      "Epoch #6 train_loss: 0.4063861593604088 || val_loss: 0.378752778614721\n",
      "Calculating training results....\n"
     ]
    },
    {
     "name": "stderr",
     "output_type": "stream",
     "text": [
      "100%|██████████| 122/122 [11:54<00:00,  5.86s/it]\n"
     ]
    },
    {
     "name": "stdout",
     "output_type": "stream",
     "text": [
      "Calculating validation results....\n"
     ]
    },
    {
     "name": "stderr",
     "output_type": "stream",
     "text": [
      "100%|██████████| 31/31 [00:55<00:00,  1.78s/it]\n"
     ]
    },
    {
     "name": "stdout",
     "output_type": "stream",
     "text": [
      "Epoch #7 train_loss: 0.40573866408867915 || val_loss: 0.3835082534820803\n",
      "Calculating training results....\n"
     ]
    },
    {
     "name": "stderr",
     "output_type": "stream",
     "text": [
      "100%|██████████| 122/122 [12:24<00:00,  6.10s/it]\n"
     ]
    },
    {
     "name": "stdout",
     "output_type": "stream",
     "text": [
      "Calculating validation results....\n"
     ]
    },
    {
     "name": "stderr",
     "output_type": "stream",
     "text": [
      "100%|██████████| 31/31 [00:55<00:00,  1.80s/it]\n"
     ]
    },
    {
     "name": "stdout",
     "output_type": "stream",
     "text": [
      "Epoch #8 train_loss: 0.3985433766587836 || val_loss: 0.38099514476714597\n",
      "Calculating training results....\n"
     ]
    },
    {
     "name": "stderr",
     "output_type": "stream",
     "text": [
      "100%|██████████| 122/122 [12:17<00:00,  6.05s/it]\n"
     ]
    },
    {
     "name": "stdout",
     "output_type": "stream",
     "text": [
      "Calculating validation results....\n"
     ]
    },
    {
     "name": "stderr",
     "output_type": "stream",
     "text": [
      "100%|██████████| 31/31 [00:55<00:00,  1.78s/it]\n"
     ]
    },
    {
     "name": "stdout",
     "output_type": "stream",
     "text": [
      "Epoch #9 train_loss: 0.38862205223470436 || val_loss: 0.37061272369277093\n",
      "Calculating training results....\n"
     ]
    },
    {
     "name": "stderr",
     "output_type": "stream",
     "text": [
      "100%|██████████| 122/122 [12:04<00:00,  5.94s/it]\n"
     ]
    },
    {
     "name": "stdout",
     "output_type": "stream",
     "text": [
      "Calculating validation results....\n"
     ]
    },
    {
     "name": "stderr",
     "output_type": "stream",
     "text": [
      "100%|██████████| 31/31 [00:55<00:00,  1.80s/it]\n"
     ]
    },
    {
     "name": "stdout",
     "output_type": "stream",
     "text": [
      "Epoch #10 train_loss: 0.3896498107275025 || val_loss: 0.36976209138670274\n",
      "Calculating training results....\n"
     ]
    },
    {
     "name": "stderr",
     "output_type": "stream",
     "text": [
      "100%|██████████| 122/122 [12:11<00:00,  6.00s/it]\n"
     ]
    },
    {
     "name": "stdout",
     "output_type": "stream",
     "text": [
      "Calculating validation results....\n"
     ]
    },
    {
     "name": "stderr",
     "output_type": "stream",
     "text": [
      "100%|██████████| 31/31 [00:54<00:00,  1.77s/it]\n"
     ]
    },
    {
     "name": "stdout",
     "output_type": "stream",
     "text": [
      "Epoch #11 train_loss: 0.39361429910679335 || val_loss: 0.38527413193256627\n",
      "Calculating training results....\n"
     ]
    },
    {
     "name": "stderr",
     "output_type": "stream",
     "text": [
      "100%|██████████| 122/122 [12:24<00:00,  6.10s/it]\n"
     ]
    },
    {
     "name": "stdout",
     "output_type": "stream",
     "text": [
      "Calculating validation results....\n"
     ]
    },
    {
     "name": "stderr",
     "output_type": "stream",
     "text": [
      "100%|██████████| 31/31 [00:55<00:00,  1.80s/it]\n"
     ]
    },
    {
     "name": "stdout",
     "output_type": "stream",
     "text": [
      "Epoch #12 train_loss: 0.4007383455507091 || val_loss: 0.38391616075269636\n",
      "Calculating training results....\n"
     ]
    },
    {
     "name": "stderr",
     "output_type": "stream",
     "text": [
      "100%|██████████| 122/122 [12:25<00:00,  6.11s/it]\n"
     ]
    },
    {
     "name": "stdout",
     "output_type": "stream",
     "text": [
      "Calculating validation results....\n"
     ]
    },
    {
     "name": "stderr",
     "output_type": "stream",
     "text": [
      "100%|██████████| 31/31 [00:55<00:00,  1.78s/it]\n"
     ]
    },
    {
     "name": "stdout",
     "output_type": "stream",
     "text": [
      "Epoch #13 train_loss: 0.3985050314518272 || val_loss: 0.3911514541795177\n",
      "Calculating training results....\n"
     ]
    },
    {
     "name": "stderr",
     "output_type": "stream",
     "text": [
      "100%|██████████| 122/122 [12:18<00:00,  6.06s/it]\n"
     ]
    },
    {
     "name": "stdout",
     "output_type": "stream",
     "text": [
      "Calculating validation results....\n"
     ]
    },
    {
     "name": "stderr",
     "output_type": "stream",
     "text": [
      "100%|██████████| 31/31 [00:55<00:00,  1.81s/it]\n"
     ]
    },
    {
     "name": "stdout",
     "output_type": "stream",
     "text": [
      "Epoch #14 train_loss: 0.3872608326253344 || val_loss: 0.3888701373530972\n",
      "Calculating training results....\n"
     ]
    },
    {
     "name": "stderr",
     "output_type": "stream",
     "text": [
      "100%|██████████| 122/122 [12:05<00:00,  5.94s/it]\n"
     ]
    },
    {
     "name": "stdout",
     "output_type": "stream",
     "text": [
      "Calculating validation results....\n"
     ]
    },
    {
     "name": "stderr",
     "output_type": "stream",
     "text": [
      "100%|██████████| 31/31 [00:55<00:00,  1.80s/it]\n"
     ]
    },
    {
     "name": "stdout",
     "output_type": "stream",
     "text": [
      "Epoch #15 train_loss: 0.3802901957123006 || val_loss: 0.3730776439751348\n",
      "loading annotations into memory...\n",
      "Done (t=0.07s)\n",
      "creating index...\n",
      "index created!\n",
      "loading annotations into memory...\n",
      "Done (t=0.08s)\n",
      "creating index...\n",
      "index created!\n",
      "==================================================\n",
      "Fold : 4\n",
      "Calculating training results....\n"
     ]
    },
    {
     "name": "stderr",
     "output_type": "stream",
     "text": [
      "100%|██████████| 122/122 [12:17<00:00,  6.05s/it]\n"
     ]
    },
    {
     "name": "stdout",
     "output_type": "stream",
     "text": [
      "Calculating validation results....\n"
     ]
    },
    {
     "name": "stderr",
     "output_type": "stream",
     "text": [
      "100%|██████████| 31/31 [00:56<00:00,  1.81s/it]\n"
     ]
    },
    {
     "name": "stdout",
     "output_type": "stream",
     "text": [
      "Epoch #1 train_loss: 0.3865408539527752 || val_loss: 0.3373848714174763\n",
      "Calculating training results....\n"
     ]
    },
    {
     "name": "stderr",
     "output_type": "stream",
     "text": [
      "100%|██████████| 122/122 [11:40<00:00,  5.74s/it]\n"
     ]
    },
    {
     "name": "stdout",
     "output_type": "stream",
     "text": [
      "Calculating validation results....\n"
     ]
    },
    {
     "name": "stderr",
     "output_type": "stream",
     "text": [
      "100%|██████████| 31/31 [00:55<00:00,  1.78s/it]\n"
     ]
    },
    {
     "name": "stdout",
     "output_type": "stream",
     "text": [
      "Epoch #2 train_loss: 0.39385103153400736 || val_loss: 0.3515782077466288\n",
      "Calculating training results....\n"
     ]
    },
    {
     "name": "stderr",
     "output_type": "stream",
     "text": [
      "100%|██████████| 122/122 [11:29<00:00,  5.65s/it]\n"
     ]
    },
    {
     "name": "stdout",
     "output_type": "stream",
     "text": [
      "Calculating validation results....\n"
     ]
    },
    {
     "name": "stderr",
     "output_type": "stream",
     "text": [
      "100%|██████████| 31/31 [00:55<00:00,  1.80s/it]\n"
     ]
    },
    {
     "name": "stdout",
     "output_type": "stream",
     "text": [
      "Epoch #3 train_loss: 0.3999510010490652 || val_loss: 0.37244065826939\n",
      "Calculating training results....\n"
     ]
    },
    {
     "name": "stderr",
     "output_type": "stream",
     "text": [
      "100%|██████████| 122/122 [11:26<00:00,  5.63s/it]\n"
     ]
    },
    {
     "name": "stdout",
     "output_type": "stream",
     "text": [
      "Calculating validation results....\n"
     ]
    },
    {
     "name": "stderr",
     "output_type": "stream",
     "text": [
      "100%|██████████| 31/31 [00:55<00:00,  1.79s/it]\n"
     ]
    },
    {
     "name": "stdout",
     "output_type": "stream",
     "text": [
      "Epoch #4 train_loss: 0.40015491305804646 || val_loss: 0.3643265318485998\n",
      "Calculating training results....\n"
     ]
    },
    {
     "name": "stderr",
     "output_type": "stream",
     "text": [
      "100%|██████████| 122/122 [12:04<00:00,  5.94s/it]\n"
     ]
    },
    {
     "name": "stdout",
     "output_type": "stream",
     "text": [
      "Calculating validation results....\n"
     ]
    },
    {
     "name": "stderr",
     "output_type": "stream",
     "text": [
      "100%|██████████| 31/31 [00:56<00:00,  1.81s/it]\n"
     ]
    },
    {
     "name": "stdout",
     "output_type": "stream",
     "text": [
      "Epoch #5 train_loss: 0.3871576540538522 || val_loss: 0.3572753215989759\n",
      "Calculating training results....\n"
     ]
    },
    {
     "name": "stderr",
     "output_type": "stream",
     "text": [
      "100%|██████████| 122/122 [11:38<00:00,  5.72s/it]\n"
     ]
    },
    {
     "name": "stdout",
     "output_type": "stream",
     "text": [
      "Calculating validation results....\n"
     ]
    },
    {
     "name": "stderr",
     "output_type": "stream",
     "text": [
      "100%|██████████| 31/31 [00:54<00:00,  1.77s/it]\n"
     ]
    },
    {
     "name": "stdout",
     "output_type": "stream",
     "text": [
      "Epoch #6 train_loss: 0.37808557734137677 || val_loss: 0.346576105202398\n",
      "Calculating training results....\n"
     ]
    },
    {
     "name": "stderr",
     "output_type": "stream",
     "text": [
      "100%|██████████| 122/122 [12:22<00:00,  6.09s/it]\n"
     ]
    },
    {
     "name": "stdout",
     "output_type": "stream",
     "text": [
      "Calculating validation results....\n"
     ]
    },
    {
     "name": "stderr",
     "output_type": "stream",
     "text": [
      "100%|██████████| 31/31 [00:55<00:00,  1.80s/it]\n"
     ]
    },
    {
     "name": "stdout",
     "output_type": "stream",
     "text": [
      "Epoch #7 train_loss: 0.37448494527183596 || val_loss: 0.3470683511226408\n",
      "Calculating training results....\n"
     ]
    },
    {
     "name": "stderr",
     "output_type": "stream",
     "text": [
      "100%|██████████| 122/122 [11:40<00:00,  5.74s/it]\n"
     ]
    },
    {
     "name": "stdout",
     "output_type": "stream",
     "text": [
      "Calculating validation results....\n"
     ]
    },
    {
     "name": "stderr",
     "output_type": "stream",
     "text": [
      "100%|██████████| 31/31 [00:53<00:00,  1.72s/it]\n"
     ]
    },
    {
     "name": "stdout",
     "output_type": "stream",
     "text": [
      "Epoch #8 train_loss: 0.3872108830780279 || val_loss: 0.3596407626905749\n",
      "Calculating training results....\n"
     ]
    },
    {
     "name": "stderr",
     "output_type": "stream",
     "text": [
      "100%|██████████| 122/122 [11:59<00:00,  5.89s/it]\n"
     ]
    },
    {
     "name": "stdout",
     "output_type": "stream",
     "text": [
      "Calculating validation results....\n"
     ]
    },
    {
     "name": "stderr",
     "output_type": "stream",
     "text": [
      "100%|██████████| 31/31 [00:55<00:00,  1.80s/it]\n"
     ]
    },
    {
     "name": "stdout",
     "output_type": "stream",
     "text": [
      "Epoch #9 train_loss: 0.3871731963313994 || val_loss: 0.36977450693807296\n",
      "Calculating training results....\n"
     ]
    },
    {
     "name": "stderr",
     "output_type": "stream",
     "text": [
      "100%|██████████| 122/122 [11:11<00:00,  5.51s/it]\n"
     ]
    },
    {
     "name": "stdout",
     "output_type": "stream",
     "text": [
      "Calculating validation results....\n"
     ]
    },
    {
     "name": "stderr",
     "output_type": "stream",
     "text": [
      "100%|██████████| 31/31 [00:55<00:00,  1.79s/it]\n"
     ]
    },
    {
     "name": "stdout",
     "output_type": "stream",
     "text": [
      "Epoch #10 train_loss: 0.3880227403562577 || val_loss: 0.37226419102761055\n",
      "Calculating training results....\n"
     ]
    },
    {
     "name": "stderr",
     "output_type": "stream",
     "text": [
      "100%|██████████| 122/122 [11:44<00:00,  5.78s/it]\n"
     ]
    },
    {
     "name": "stdout",
     "output_type": "stream",
     "text": [
      "Calculating validation results....\n"
     ]
    },
    {
     "name": "stderr",
     "output_type": "stream",
     "text": [
      "100%|██████████| 31/31 [00:55<00:00,  1.80s/it]\n"
     ]
    },
    {
     "name": "stdout",
     "output_type": "stream",
     "text": [
      "Epoch #11 train_loss: 0.37698545709985204 || val_loss: 0.36398146421678607\n",
      "Calculating training results....\n"
     ]
    },
    {
     "name": "stderr",
     "output_type": "stream",
     "text": [
      "100%|██████████| 122/122 [11:17<00:00,  5.55s/it]\n"
     ]
    },
    {
     "name": "stdout",
     "output_type": "stream",
     "text": [
      "Calculating validation results....\n"
     ]
    },
    {
     "name": "stderr",
     "output_type": "stream",
     "text": [
      "100%|██████████| 31/31 [00:55<00:00,  1.80s/it]\n"
     ]
    },
    {
     "name": "stdout",
     "output_type": "stream",
     "text": [
      "Epoch #12 train_loss: 0.3695255991865377 || val_loss: 0.3547214529206676\n",
      "Calculating training results....\n"
     ]
    },
    {
     "name": "stderr",
     "output_type": "stream",
     "text": [
      "100%|██████████| 122/122 [11:36<00:00,  5.71s/it]\n"
     ]
    },
    {
     "name": "stdout",
     "output_type": "stream",
     "text": [
      "Calculating validation results....\n"
     ]
    },
    {
     "name": "stderr",
     "output_type": "stream",
     "text": [
      "100%|██████████| 31/31 [00:55<00:00,  1.80s/it]\n"
     ]
    },
    {
     "name": "stdout",
     "output_type": "stream",
     "text": [
      "Epoch #13 train_loss: 0.36595715142664365 || val_loss: 0.35346800761838115\n",
      "Calculating training results....\n"
     ]
    },
    {
     "name": "stderr",
     "output_type": "stream",
     "text": [
      "100%|██████████| 122/122 [11:50<00:00,  5.82s/it]\n"
     ]
    },
    {
     "name": "stdout",
     "output_type": "stream",
     "text": [
      "Calculating validation results....\n"
     ]
    },
    {
     "name": "stderr",
     "output_type": "stream",
     "text": [
      "100%|██████████| 31/31 [00:55<00:00,  1.78s/it]\n"
     ]
    },
    {
     "name": "stdout",
     "output_type": "stream",
     "text": [
      "Epoch #14 train_loss: 0.3706507527681648 || val_loss: 0.3630027617177656\n",
      "Calculating training results....\n"
     ]
    },
    {
     "name": "stderr",
     "output_type": "stream",
     "text": [
      "100%|██████████| 122/122 [11:47<00:00,  5.80s/it]\n"
     ]
    },
    {
     "name": "stdout",
     "output_type": "stream",
     "text": [
      "Calculating validation results....\n"
     ]
    },
    {
     "name": "stderr",
     "output_type": "stream",
     "text": [
      "100%|██████████| 31/31 [00:55<00:00,  1.80s/it]\n"
     ]
    },
    {
     "name": "stdout",
     "output_type": "stream",
     "text": [
      "Epoch #15 train_loss: 0.3751740644945473 || val_loss: 0.38774603124587764\n",
      "loading annotations into memory...\n",
      "Done (t=0.07s)\n",
      "creating index...\n",
      "index created!\n",
      "loading annotations into memory...\n",
      "Done (t=0.07s)\n",
      "creating index...\n",
      "index created!\n",
      "==================================================\n",
      "Fold : 5\n",
      "Calculating training results....\n"
     ]
    },
    {
     "name": "stderr",
     "output_type": "stream",
     "text": [
      "100%|██████████| 123/123 [11:43<00:00,  5.72s/it]\n"
     ]
    },
    {
     "name": "stdout",
     "output_type": "stream",
     "text": [
      "Calculating validation results....\n"
     ]
    },
    {
     "name": "stderr",
     "output_type": "stream",
     "text": [
      "100%|██████████| 31/31 [00:55<00:00,  1.80s/it]\n"
     ]
    },
    {
     "name": "stdout",
     "output_type": "stream",
     "text": [
      "Epoch #1 train_loss: 0.3861271444617248 || val_loss: 0.35734916983112214\n",
      "Calculating training results....\n"
     ]
    },
    {
     "name": "stderr",
     "output_type": "stream",
     "text": [
      "100%|██████████| 123/123 [11:47<00:00,  5.75s/it]\n"
     ]
    },
    {
     "name": "stdout",
     "output_type": "stream",
     "text": [
      "Calculating validation results....\n"
     ]
    },
    {
     "name": "stderr",
     "output_type": "stream",
     "text": [
      "100%|██████████| 31/31 [00:55<00:00,  1.79s/it]\n"
     ]
    },
    {
     "name": "stdout",
     "output_type": "stream",
     "text": [
      "Epoch #2 train_loss: 0.37096859454139464 || val_loss: 0.35051472196655886\n",
      "Calculating training results....\n"
     ]
    },
    {
     "name": "stderr",
     "output_type": "stream",
     "text": [
      "100%|██████████| 123/123 [11:50<00:00,  5.78s/it]\n"
     ]
    },
    {
     "name": "stdout",
     "output_type": "stream",
     "text": [
      "Calculating validation results....\n"
     ]
    },
    {
     "name": "stderr",
     "output_type": "stream",
     "text": [
      "100%|██████████| 31/31 [00:55<00:00,  1.79s/it]\n"
     ]
    },
    {
     "name": "stdout",
     "output_type": "stream",
     "text": [
      "Epoch #3 train_loss: 0.36670400117470964 || val_loss: 0.339066352575056\n",
      "Calculating training results....\n"
     ]
    },
    {
     "name": "stderr",
     "output_type": "stream",
     "text": [
      "100%|██████████| 123/123 [12:15<00:00,  5.98s/it]\n"
     ]
    },
    {
     "name": "stdout",
     "output_type": "stream",
     "text": [
      "Calculating validation results....\n"
     ]
    },
    {
     "name": "stderr",
     "output_type": "stream",
     "text": [
      "100%|██████████| 31/31 [00:55<00:00,  1.79s/it]\n"
     ]
    },
    {
     "name": "stdout",
     "output_type": "stream",
     "text": [
      "Epoch #4 train_loss: 0.36313445187681087 || val_loss: 0.33698268378934554\n",
      "Calculating training results....\n"
     ]
    },
    {
     "name": "stderr",
     "output_type": "stream",
     "text": [
      "100%|██████████| 123/123 [11:27<00:00,  5.59s/it]\n"
     ]
    },
    {
     "name": "stdout",
     "output_type": "stream",
     "text": [
      "Calculating validation results....\n"
     ]
    },
    {
     "name": "stderr",
     "output_type": "stream",
     "text": [
      "100%|██████████| 31/31 [00:55<00:00,  1.80s/it]\n"
     ]
    },
    {
     "name": "stdout",
     "output_type": "stream",
     "text": [
      "Epoch #5 train_loss: 0.3692124078913433 || val_loss: 0.3506714749720789\n",
      "Calculating training results....\n"
     ]
    },
    {
     "name": "stderr",
     "output_type": "stream",
     "text": [
      "100%|██████████| 123/123 [11:54<00:00,  5.81s/it]\n"
     ]
    },
    {
     "name": "stdout",
     "output_type": "stream",
     "text": [
      "Calculating validation results....\n"
     ]
    },
    {
     "name": "stderr",
     "output_type": "stream",
     "text": [
      "100%|██████████| 31/31 [00:55<00:00,  1.79s/it]\n"
     ]
    },
    {
     "name": "stdout",
     "output_type": "stream",
     "text": [
      "Epoch #6 train_loss: 0.37594221193131394 || val_loss: 0.36633789683541945\n",
      "Calculating training results....\n"
     ]
    },
    {
     "name": "stderr",
     "output_type": "stream",
     "text": [
      "100%|██████████| 123/123 [11:25<00:00,  5.57s/it]\n"
     ]
    },
    {
     "name": "stdout",
     "output_type": "stream",
     "text": [
      "Calculating validation results....\n"
     ]
    },
    {
     "name": "stderr",
     "output_type": "stream",
     "text": [
      "100%|██████████| 31/31 [00:55<00:00,  1.80s/it]\n"
     ]
    },
    {
     "name": "stdout",
     "output_type": "stream",
     "text": [
      "Epoch #7 train_loss: 0.3755418695812303 || val_loss: 0.3611202552433937\n",
      "Calculating training results....\n"
     ]
    },
    {
     "name": "stderr",
     "output_type": "stream",
     "text": [
      "100%|██████████| 123/123 [11:45<00:00,  5.73s/it]\n"
     ]
    },
    {
     "name": "stdout",
     "output_type": "stream",
     "text": [
      "Calculating validation results....\n"
     ]
    },
    {
     "name": "stderr",
     "output_type": "stream",
     "text": [
      "100%|██████████| 31/31 [00:55<00:00,  1.78s/it]\n"
     ]
    },
    {
     "name": "stdout",
     "output_type": "stream",
     "text": [
      "Epoch #8 train_loss: 0.3610970054457827 || val_loss: 0.35517952951692766\n",
      "Calculating training results....\n"
     ]
    },
    {
     "name": "stderr",
     "output_type": "stream",
     "text": [
      "100%|██████████| 123/123 [12:14<00:00,  5.97s/it]\n"
     ]
    },
    {
     "name": "stdout",
     "output_type": "stream",
     "text": [
      "Calculating validation results....\n"
     ]
    },
    {
     "name": "stderr",
     "output_type": "stream",
     "text": [
      "100%|██████████| 31/31 [00:56<00:00,  1.81s/it]\n"
     ]
    },
    {
     "name": "stdout",
     "output_type": "stream",
     "text": [
      "Epoch #9 train_loss: 0.3557847677692165 || val_loss: 0.3490256537352839\n",
      "Calculating training results....\n"
     ]
    },
    {
     "name": "stderr",
     "output_type": "stream",
     "text": [
      "100%|██████████| 123/123 [12:05<00:00,  5.90s/it]\n"
     ]
    },
    {
     "name": "stdout",
     "output_type": "stream",
     "text": [
      "Calculating validation results....\n"
     ]
    },
    {
     "name": "stderr",
     "output_type": "stream",
     "text": [
      "100%|██████████| 31/31 [00:55<00:00,  1.80s/it]\n"
     ]
    },
    {
     "name": "stdout",
     "output_type": "stream",
     "text": [
      "Epoch #10 train_loss: 0.3547527479931591 || val_loss: 0.3445849192719306\n",
      "Calculating training results....\n"
     ]
    },
    {
     "name": "stderr",
     "output_type": "stream",
     "text": [
      "100%|██████████| 123/123 [11:37<00:00,  5.67s/it]\n"
     ]
    },
    {
     "name": "stdout",
     "output_type": "stream",
     "text": [
      "Calculating validation results....\n"
     ]
    },
    {
     "name": "stderr",
     "output_type": "stream",
     "text": [
      "100%|██████████| 31/31 [00:55<00:00,  1.80s/it]\n"
     ]
    },
    {
     "name": "stdout",
     "output_type": "stream",
     "text": [
      "Epoch #11 train_loss: 0.35736068041344 || val_loss: 0.3560545958818928\n",
      "Calculating training results....\n"
     ]
    },
    {
     "name": "stderr",
     "output_type": "stream",
     "text": [
      "100%|██████████| 123/123 [12:00<00:00,  5.85s/it]\n"
     ]
    },
    {
     "name": "stdout",
     "output_type": "stream",
     "text": [
      "Calculating validation results....\n"
     ]
    },
    {
     "name": "stderr",
     "output_type": "stream",
     "text": [
      "100%|██████████| 31/31 [00:55<00:00,  1.78s/it]\n"
     ]
    },
    {
     "name": "stdout",
     "output_type": "stream",
     "text": [
      "Epoch #12 train_loss: 0.3691783342661896 || val_loss: 0.3629024672892786\n",
      "Calculating training results....\n"
     ]
    },
    {
     "name": "stderr",
     "output_type": "stream",
     "text": [
      "100%|██████████| 123/123 [11:43<00:00,  5.72s/it]\n"
     ]
    },
    {
     "name": "stdout",
     "output_type": "stream",
     "text": [
      "Calculating validation results....\n"
     ]
    },
    {
     "name": "stderr",
     "output_type": "stream",
     "text": [
      "100%|██████████| 31/31 [00:56<00:00,  1.82s/it]\n"
     ]
    },
    {
     "name": "stdout",
     "output_type": "stream",
     "text": [
      "Epoch #13 train_loss: 0.3690856429861813 || val_loss: 0.37582642801346317\n",
      "Calculating training results....\n"
     ]
    },
    {
     "name": "stderr",
     "output_type": "stream",
     "text": [
      "100%|██████████| 123/123 [11:25<00:00,  5.57s/it]\n"
     ]
    },
    {
     "name": "stdout",
     "output_type": "stream",
     "text": [
      "Calculating validation results....\n"
     ]
    },
    {
     "name": "stderr",
     "output_type": "stream",
     "text": [
      "100%|██████████| 31/31 [00:55<00:00,  1.79s/it]\n"
     ]
    },
    {
     "name": "stdout",
     "output_type": "stream",
     "text": [
      "Epoch #14 train_loss: 0.3559847806042772 || val_loss: 0.36322048691011244\n",
      "Calculating training results....\n"
     ]
    },
    {
     "name": "stderr",
     "output_type": "stream",
     "text": [
      "100%|██████████| 123/123 [11:18<00:00,  5.52s/it]\n"
     ]
    },
    {
     "name": "stdout",
     "output_type": "stream",
     "text": [
      "Calculating validation results....\n"
     ]
    },
    {
     "name": "stderr",
     "output_type": "stream",
     "text": [
      "100%|██████████| 31/31 [00:55<00:00,  1.78s/it]\n"
     ]
    },
    {
     "name": "stdout",
     "output_type": "stream",
     "text": [
      "Epoch #15 train_loss: 0.34879107494664385 || val_loss: 0.3585759420548716\n",
      "loading annotations into memory...\n",
      "Done (t=0.07s)\n",
      "creating index...\n",
      "index created!\n"
     ]
    },
    {
     "name": "stderr",
     "output_type": "stream",
     "text": [
      "100%|██████████| 306/306 [02:58<00:00,  1.72it/s]\n",
      "4883it [00:01, 4366.44it/s]\n"
     ]
    },
    {
     "name": "stdout",
     "output_type": "stream",
     "text": [
      "Number of files in annotations: 4883\n",
      "Number of files in predictions: 4883\n",
      "Unique classes: 10\n",
      "Detections length: 4883\n",
      "Annotations length: 4883\n",
      "0                              | 0.478237 |    3966\n",
      "1                              | 0.607693 |    6352\n",
      "2                              | 0.710326 |     897\n",
      "3                              | 0.664225 |     936\n",
      "4                              | 0.775143 |     982\n",
      "5                              | 0.583886 |    2943\n",
      "6                              | 0.640959 |    1263\n"
     ]
    },
    {
     "name": "stderr",
     "output_type": "stream",
     "text": [
      "\u001b[34m\u001b[1mwandb\u001b[0m: \u001b[33mWARNING\u001b[0m Calling wandb.run.save without any arguments is deprecated.Changes to attributes are automatically persisted.\n"
     ]
    },
    {
     "name": "stdout",
     "output_type": "stream",
     "text": [
      "7                              | 0.788395 |    5178\n",
      "8                              | 0.879740 |     159\n",
      "9                              | 0.739063 |     468\n",
      "mAP: 0.686767\n"
     ]
    }
   ],
   "source": [
    "if __name__ == '__main__':\n",
    "    main(config)"
   ]
  }
 ],
 "metadata": {
  "kernelspec": {
   "display_name": "Python 3 (ipykernel)",
   "language": "python",
   "name": "python3"
  },
  "language_info": {
   "codemirror_mode": {
    "name": "ipython",
    "version": 3
   },
   "file_extension": ".py",
   "mimetype": "text/x-python",
   "name": "python",
   "nbconvert_exporter": "python",
   "pygments_lexer": "ipython3",
   "version": "3.7.11"
  }
 },
 "nbformat": 4,
 "nbformat_minor": 4
}
